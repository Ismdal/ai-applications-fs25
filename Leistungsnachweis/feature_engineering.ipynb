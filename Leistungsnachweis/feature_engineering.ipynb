{
 "cells": [
  {
   "cell_type": "markdown",
   "metadata": {},
   "source": [
    "## Leistungsnachweis"
   ]
  },
  {
   "cell_type": "code",
   "execution_count": 33,
   "metadata": {},
   "outputs": [
    {
     "data": {
      "text/plain": [
       "Index(['bfs_number', 'rooms', 'area', 'price', 'postalcode', 'address', 'town',\n",
       "       'description_raw', 'bfs_name', 'pop', 'pop_dens', 'frg_pct', 'emp',\n",
       "       'tax_income', 'lat', 'lon', 'x', 'y'],\n",
       "      dtype='object')"
      ]
     },
     "execution_count": 33,
     "metadata": {},
     "output_type": "execute_result"
    }
   ],
   "source": [
    "# Libraries\n",
    "import numpy as np\n",
    "import pandas as pd\n",
    "from sklearn.ensemble import RandomForestRegressor\n",
    "from sklearn.model_selection import cross_val_score\n",
    "from sklearn.model_selection import train_test_split\n",
    "import joblib\n",
    "import gradio as gr\n",
    "\n",
    "\n",
    "# Ignore warnings\n",
    "import warnings\n",
    "warnings.filterwarnings(\"ignore\")\n",
    "\n",
    "# Load data\n",
    "\n",
    "# Read the data to a pandas data frame\n",
    "df = pd.read_csv('apartments_data_enriched_lat_lon_combined.csv', sep=',', encoding='utf-8')\n",
    "\n",
    "# Data cleaning\n",
    "\n",
    "# Remove missing values\n",
    "df = df.dropna()\n",
    "\n",
    "# Remove duplicates\n",
    "df = df.drop_duplicates()\n",
    "\n",
    "# Remove some 'extreme' values\n",
    "df = df.loc[(df['price'] >= 750) & \n",
    "            (df['price'] <= 8000)]\n",
    "\n",
    "df.columns\n"
   ]
  },
  {
   "cell_type": "markdown",
   "metadata": {},
   "source": [
    "### Model Performance"
   ]
  },
  {
   "cell_type": "code",
   "execution_count": 34,
   "metadata": {},
   "outputs": [
    {
     "name": "stdout",
     "output_type": "stream",
     "text": [
      "CV results RMSE: [-602. -579. -629. -629. -574.]\n",
      "Mean RMSE: -602.6\n"
     ]
    }
   ],
   "source": [
    "def model_performance(features, df, random_forest_model = RandomForestRegressor(random_state=42)):\n",
    "    df = df.sample(frac=1, random_state=42)\n",
    "    X, y = df[features], df['price']\n",
    "    scores = cross_val_score(random_forest_model, X, y, scoring=\"neg_root_mean_squared_error\", cv=5)\n",
    "    print('CV results RMSE:', np.round(scores))\n",
    "    print('Mean RMSE:', np.mean(np.round(scores, 0)))\n",
    "\n",
    "features = ['rooms', 'area', 'postalcode','pop', 'pop_dens', 'tax_income']\n",
    "model_performance(features, df)"
   ]
  },
  {
   "cell_type": "markdown",
   "metadata": {},
   "source": [
    "### Feature Engineering"
   ]
  },
  {
   "cell_type": "code",
   "execution_count": 35,
   "metadata": {},
   "outputs": [
    {
     "name": "stdout",
     "output_type": "stream",
     "text": [
      "CV results RMSE: [-618. -576. -663. -629. -559.]\n",
      "Mean RMSE: -609.0\n",
      "Index(['bfs_number', 'rooms', 'area', 'price', 'postalcode', 'address', 'town',\n",
      "       'description_raw', 'bfs_name', 'pop', 'pop_dens', 'frg_pct', 'emp',\n",
      "       'tax_income', 'lat', 'lon', 'x', 'y', 'density_factor'],\n",
      "      dtype='object')\n"
     ]
    }
   ],
   "source": [
    "# Feature engineering\n",
    "\n",
    "df['density_factor'] = np.log1p(df['pop_dens']) * df['rooms']\n",
    "\n",
    "features = ['rooms', 'area', 'postalcode','pop', 'pop_dens', 'tax_income','density_factor']\n",
    "model_performance(features, df)\n",
    "\n",
    "print(df.columns)"
   ]
  },
  {
   "cell_type": "markdown",
   "metadata": {},
   "source": [
    "### Train Model"
   ]
  },
  {
   "cell_type": "code",
   "execution_count": 36,
   "metadata": {},
   "outputs": [
    {
     "data": {
      "text/plain": [
       "['apartment_price_model.pkl']"
      ]
     },
     "execution_count": 36,
     "metadata": {},
     "output_type": "execute_result"
    }
   ],
   "source": [
    "features = ['rooms', 'area', 'postalcode','pop', 'pop_dens', 'tax_income','density_factor']\n",
    "X = df[features]\n",
    "y = df[\"price\"]\n",
    "X_train, X_test, y_train, y_test = train_test_split(X, y, test_size=0.2, random_state=42)\n",
    "\n",
    "model = RandomForestRegressor(n_estimators=100, random_state=42)\n",
    "model.fit(X_train, y_train)\n",
    "\n",
    "# Save model\n",
    "joblib.dump(model, \"apartment_price_model.pkl\")"
   ]
  },
  {
   "cell_type": "markdown",
   "metadata": {},
   "source": [
    "### Gradio Web Interface"
   ]
  },
  {
   "cell_type": "code",
   "execution_count": 37,
   "metadata": {},
   "outputs": [],
   "source": [
    "def predict_price(rooms, area, postalcode, pop, pop_dens, tax_income, density_factor):\n",
    "    input_data = pd.DataFrame([[rooms, area, postalcode, pop, pop_dens, tax_income, density_factor]],\n",
    "                              columns=features)\n",
    "    price = model.predict(input_data)[0]\n",
    "    return f\"Geschätzter Preis: {price:.2f} CHF\""
   ]
  },
  {
   "cell_type": "code",
   "execution_count": 38,
   "metadata": {},
   "outputs": [
    {
     "name": "stdout",
     "output_type": "stream",
     "text": [
      "* Running on local URL:  http://127.0.0.1:7867\n",
      "* Running on public URL: https://cea133685c98ccf378.gradio.live\n",
      "\n",
      "This share link expires in 72 hours. For free permanent hosting and GPU upgrades, run `gradio deploy` from the terminal in the working directory to deploy to Hugging Face Spaces (https://huggingface.co/spaces)\n"
     ]
    },
    {
     "data": {
      "text/html": [
       "<div><iframe src=\"https://cea133685c98ccf378.gradio.live\" width=\"100%\" height=\"500\" allow=\"autoplay; camera; microphone; clipboard-read; clipboard-write;\" frameborder=\"0\" allowfullscreen></iframe></div>"
      ],
      "text/plain": [
       "<IPython.core.display.HTML object>"
      ]
     },
     "metadata": {},
     "output_type": "display_data"
    },
    {
     "name": "stdout",
     "output_type": "stream",
     "text": [
      "[NbConvertApp] Converting notebook feature_engineering.ipynb to script\n",
      "[NbConvertApp] Writing 3106 bytes to feature_engineering.py\n"
     ]
    }
   ],
   "source": [
    "# Interface\n",
    "app = gr.Interface(\n",
    "    fn=predict_price,\n",
    "    inputs=[\n",
    "        gr.Number(label=\"Anzahl Zimmer\"),\n",
    "        gr.Number(label=\"Fläche (qm)\"),\n",
    "        gr.Number(label=\"Postleitzahl\"),\n",
    "    ],\n",
    "    outputs=\"text\",\n",
    "    title=\"Apartment Preis Schätzer\",\n",
    "    description=\"Geben Sie die Anzahl der Zimmer, die Fläche und die Postleitzahl ein. Bevölkerungsdaten werden automatisch abgerufen und density_factor berechnet.\",\n",
    "    examples = [[2, 122, 8050],\n",
    "            [1.5, 30, 8008]]\n",
    ")\n",
    "\n",
    "\n",
    "# Launch the Gradio app\n",
    "app.launch(share=True)\n",
    "\n",
    "\n",
    "!jupyter nbconvert --to script feature_engineering.ipynb\n",
    "    \n",
    "\n"
   ]
  },
  {
   "cell_type": "code",
   "execution_count": 39,
   "metadata": {},
   "outputs": [],
   "source": [
    "import pickle\n",
    "\n",
    "model_filename = \"feature_engineering.pkl\"\n",
    "with open(model_filename, mode=\"bw\") as f:\n",
    "    pickle.dump(model, file=f)"
   ]
  }
 ],
 "metadata": {
  "kernelspec": {
   "display_name": "Python 3",
   "language": "python",
   "name": "python3"
  },
  "language_info": {
   "codemirror_mode": {
    "name": "ipython",
    "version": 3
   },
   "file_extension": ".py",
   "mimetype": "text/x-python",
   "name": "python",
   "nbconvert_exporter": "python",
   "pygments_lexer": "ipython3",
   "version": "3.12.1"
  }
 },
 "nbformat": 4,
 "nbformat_minor": 2
}
