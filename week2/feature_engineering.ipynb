{
 "cells": [
  {
   "cell_type": "markdown",
   "id": "574e60b2",
   "metadata": {},
   "source": [
    "# Feature Engineering"
   ]
  },
  {
   "attachments": {},
   "cell_type": "markdown",
   "id": "f0d3d6bc",
   "metadata": {},
   "source": [
    "This notebook create new features and mesures the the perfomance change in the model. The goal is to create features to increase the model performance."
   ]
  },
  {
   "cell_type": "code",
   "execution_count": 74,
   "id": "d3e9228d",
   "metadata": {},
   "outputs": [],
   "source": [
    "# Libraries\n",
    "import numpy as np\n",
    "import pandas as pd\n",
    "from sklearn.ensemble import RandomForestRegressor\n",
    "from sklearn.model_selection import cross_val_score\n",
    "\n",
    "# Ignore warnings\n",
    "import warnings\n",
    "warnings.filterwarnings(\"ignore\")"
   ]
  },
  {
   "cell_type": "markdown",
   "id": "5038f83f",
   "metadata": {},
   "source": [
    "### Import the data"
   ]
  },
  {
   "cell_type": "code",
   "execution_count": 75,
   "id": "a7f4c90e",
   "metadata": {},
   "outputs": [
    {
     "data": {
      "text/plain": [
       "(819, 18)"
      ]
     },
     "execution_count": 75,
     "metadata": {},
     "output_type": "execute_result"
    }
   ],
   "source": [
    "# Read the data to a pandas data frame\n",
    "df = pd.read_csv('original_apartment_data_analytics_hs24_with_lat_lon.csv', sep=',', encoding='utf-8')\n",
    "# Get number of rows and columns\n",
    "df.shape"
   ]
  },
  {
   "cell_type": "code",
   "execution_count": 76,
   "id": "c6e8f3e7",
   "metadata": {},
   "outputs": [
    {
     "data": {
      "text/plain": [
       "Index(['bfs_number', 'rooms', 'area', 'price', 'postalcode', 'address', 'town',\n",
       "       'description_raw', 'bfs_name', 'pop', 'pop_dens', 'frg_pct', 'emp',\n",
       "       'tax_income', 'lat', 'lon', 'x', 'y'],\n",
       "      dtype='object')"
      ]
     },
     "execution_count": 76,
     "metadata": {},
     "output_type": "execute_result"
    }
   ],
   "source": [
    "df.columns"
   ]
  },
  {
   "cell_type": "markdown",
   "id": "ff7739ae",
   "metadata": {},
   "source": [
    "## Model Performance"
   ]
  },
  {
   "cell_type": "code",
   "execution_count": 77,
   "id": "685b4884",
   "metadata": {},
   "outputs": [],
   "source": [
    "def model_performance(features, df, random_forest_model = RandomForestRegressor(random_state=42)):\n",
    "    df = df.sample(frac=1, random_state=42)\n",
    "    X, y = df[features], df['price']\n",
    "    scores = cross_val_score(random_forest_model, X, y, scoring=\"neg_root_mean_squared_error\", cv=5)\n",
    "    print('CV results RMSE:', np.round(scores))\n",
    "    print('Mean RMSE:', np.mean(np.round(scores, 0)))"
   ]
  },
  {
   "cell_type": "code",
   "execution_count": 78,
   "id": "3e462d8c",
   "metadata": {},
   "outputs": [
    {
     "name": "stdout",
     "output_type": "stream",
     "text": [
      "CV results RMSE: [ -964.  -746.  -775. -1109.  -880.]\n",
      "Mean RMSE: -894.8\n"
     ]
    }
   ],
   "source": [
    "features = ['rooms', 'area', 'pop', 'pop_dens', 'frg_pct', 'emp', 'tax_income']\n",
    "model_performance(features, df)"
   ]
  },
  {
   "cell_type": "markdown",
   "id": "51a6a8fe",
   "metadata": {},
   "source": [
    "## Data Cleaning\n",
    "- Remove apartments with empty columns\n",
    "- Remove apartments which price exceeds 6000.-\n",
    "- Remove apartments which price is lower than 1000.-"
   ]
  },
  {
   "cell_type": "code",
   "execution_count": 79,
   "id": "4cbef35b",
   "metadata": {},
   "outputs": [
    {
     "name": "stdout",
     "output_type": "stream",
     "text": [
      "Total apartment before data cleaning: 819\n",
      "Total apartment after data cleaning: 804\n"
     ]
    }
   ],
   "source": [
    "print('Total apartment before data cleaning:', len(df))\n",
    "\n",
    "# Remove missing values\n",
    "df = df.dropna()\n",
    "\n",
    "# Remove duplicates\n",
    "df = df.drop_duplicates()\n",
    "\n",
    "# Remove some 'extreme' values\n",
    "df = df.loc[(df['price'] >= 750) & \n",
    "            (df['price'] <= 8000)]\n",
    "\n",
    "print('Total apartment after data cleaning:', len(df))"
   ]
  },
  {
   "cell_type": "code",
   "execution_count": 80,
   "id": "2ef12414",
   "metadata": {},
   "outputs": [
    {
     "name": "stdout",
     "output_type": "stream",
     "text": [
      "CV results RMSE: [-617. -788. -680. -705. -727.]\n",
      "Mean RMSE: -703.4\n"
     ]
    }
   ],
   "source": [
    "# Before data cleaning Mean RMSE: -894.8\n",
    "\n",
    "features = ['rooms', 'area', 'pop', 'pop_dens', 'frg_pct', 'emp', 'tax_income']\n",
    "model_performance(features, df)"
   ]
  },
  {
   "cell_type": "markdown",
   "id": "e61970fc",
   "metadata": {},
   "source": [
    "## Feature engineering"
   ]
  },
  {
   "cell_type": "markdown",
   "id": "dcadc433",
   "metadata": {},
   "source": [
    "### Create additional variables from the apartment's descriptions"
   ]
  },
  {
   "cell_type": "code",
   "execution_count": 81,
   "id": "07a0d464",
   "metadata": {},
   "outputs": [],
   "source": [
    "# Create the new variable\n",
    "df['room_per_m2'] = round(df['area'] / df['rooms'], 2)\n",
    "df['price_per_m2'] = round(df['price'] / df['area'], 2)\n",
    "\n",
    "#MY NEW VARIABLES\n",
    "df['density_factor'] = np.log1p(df['pop_dens']) * df['rooms']\n"
   ]
  },
  {
   "cell_type": "code",
   "execution_count": 82,
   "id": "e72a0d76",
   "metadata": {},
   "outputs": [
    {
     "name": "stdout",
     "output_type": "stream",
     "text": [
      "CV results RMSE: [-620. -761. -637. -688. -715.]\n",
      "Mean RMSE: -684.2\n"
     ]
    }
   ],
   "source": [
    "# Without new features the performance is: AVG RMSE: -862.86\n",
    "\n",
    "features = ['rooms', 'area', 'pop', 'pop_dens', 'frg_pct', 'emp', 'tax_income', 'room_per_m2']\n",
    "model_performance(features, df)"
   ]
  },
  {
   "cell_type": "code",
   "execution_count": 83,
   "id": "a3cc034c",
   "metadata": {},
   "outputs": [
    {
     "name": "stdout",
     "output_type": "stream",
     "text": [
      "CV results RMSE: [-189. -267. -293. -216. -201.]\n",
      "Mean RMSE: -233.2\n"
     ]
    }
   ],
   "source": [
    "# Without new features the performance is: AVG RMSE: -862.86\n",
    "\n",
    "features = ['rooms', 'area', 'pop', 'pop_dens', 'frg_pct', 'emp', 'tax_income', 'room_per_m2', 'price_per_m2']\n",
    "model_performance(features, df)"
   ]
  },
  {
   "cell_type": "markdown",
   "id": "a3525e86",
   "metadata": {},
   "source": [
    "## MY FEATURE PERFORMANCE"
   ]
  },
  {
   "cell_type": "code",
   "execution_count": 117,
   "id": "b9d79001",
   "metadata": {},
   "outputs": [
    {
     "name": "stdout",
     "output_type": "stream",
     "text": [
      "CV results RMSE: [-577. -692. -590. -727. -669.]\n",
      "Mean RMSE: -651.0\n"
     ]
    }
   ],
   "source": [
    "# Without new features the performance is: AVG RMSE: -862.86\n",
    "\n",
    "features = ['rooms', 'area', 'pop', 'pop_dens', 'frg_pct', 'emp', 'tax_income', 'room_per_m2','density_factor']\n",
    "model_performance(features, df)"
   ]
  },
  {
   "cell_type": "markdown",
   "id": "02fda3b3",
   "metadata": {},
   "source": [
    "<div style=\"border-left: 4px solid #0073e6; padding: 10px; background-color: #e6f2ff; color: black;\">\n",
    "  <strong>Question:</strong>Why is the performance, nearly perfect, when using the feature 'price_per_m2'?\n",
    "</div>\n",
    "<div style=\"border-left: 4px solid #0073e6; padding: 10px; background-color: #e6f2ff; color: black;\">\n",
    "  <strong>Answer:</strong> <span style=\"background-color: black; color: black;\" onmouseover=\"this.style.color='white'\" onmouseout=\"this.style.color='black'\">The feature 'price_per_m2' represents the price per square meter, which is the target variable we aim to predict. If you know both the area and 'price_per_m2', calculating the total price becomes straightforward.</span>\n",
    "</div>"
   ]
  },
  {
   "cell_type": "markdown",
   "id": "28903b28",
   "metadata": {},
   "source": [
    "#### Create new binary (0/1) variable 'luxurious'"
   ]
  },
  {
   "cell_type": "code",
   "execution_count": 85,
   "id": "9db4e8eb",
   "metadata": {},
   "outputs": [
    {
     "name": "stdout",
     "output_type": "stream",
     "text": [
      "Total of Luxurious Apartments 5\n"
     ]
    }
   ],
   "source": [
    "# Create a pattern which can be used to search the variable 'description_raw'\n",
    "pattern = '(LOFT)|(SEESICHT)|(ATTIKA)|(LUXURIÖS)|(LUXU)|(POOL)|(EXKLUSIV)'\n",
    "\n",
    "# Create new variable 'luxurious' as binary dummy (0/1) variable\n",
    "df['luxurious'] = df['description_raw'].str.contains(pat = pattern).astype(int)\n",
    "print('Total of Luxurious Apartments', df['luxurious'].sum())"
   ]
  },
  {
   "cell_type": "markdown",
   "id": "bd9bd905",
   "metadata": {},
   "source": [
    "#### Create new binary (0/1) variable 'temporary'"
   ]
  },
  {
   "cell_type": "code",
   "execution_count": 86,
   "id": "be511311",
   "metadata": {},
   "outputs": [
    {
     "name": "stdout",
     "output_type": "stream",
     "text": [
      "Total of Temporary Apartments 16\n"
     ]
    }
   ],
   "source": [
    "# Create a pattern which can be used to search the variable 'description_raw'\n",
    "pattern = '(TEMPOR)|(BEFRIST)'\n",
    "\n",
    "# Create new variable 'luxurious' as binary dummy (0/1) variable\n",
    "df['temporary'] = df['description_raw'].str.contains(pat = pattern).astype(int)\n",
    "print('Total of Temporary Apartments', df['temporary'].sum())"
   ]
  },
  {
   "cell_type": "markdown",
   "id": "f87c901d",
   "metadata": {},
   "source": [
    "#### Create new binary (0/1) variable 'furnished'"
   ]
  },
  {
   "cell_type": "code",
   "execution_count": 87,
   "id": "8794d100",
   "metadata": {},
   "outputs": [
    {
     "name": "stdout",
     "output_type": "stream",
     "text": [
      "Total of Furnished Apartments 15\n"
     ]
    }
   ],
   "source": [
    "# Create a pattern which can be used to search the variable 'description_raw'\n",
    "pattern = '(FURNISHED)|(MÖBLIERT)|(FURNISHE)'\n",
    "\n",
    "# Create new variable 'luxurious' as binary dummy (0/1) variable\n",
    "df['furnished'] = df['description_raw'].str.contains(pat = pattern).astype(int)\n",
    "print('Total of Furnished Apartments', df['furnished'].sum())"
   ]
  },
  {
   "cell_type": "code",
   "execution_count": 88,
   "id": "f2d6e880",
   "metadata": {},
   "outputs": [
    {
     "name": "stdout",
     "output_type": "stream",
     "text": [
      "CV results RMSE: [-621. -741. -621. -786. -687.]\n",
      "Mean RMSE: -691.2\n"
     ]
    }
   ],
   "source": [
    "# Without new features the performance is: AVG RMSE: -862.86\n",
    "\n",
    "features = ['rooms', 'area', 'pop', 'pop_dens', 'frg_pct', 'emp', 'tax_income', 'room_per_m2', 'density_factor','luxurious', 'temporary', 'furnished']\n",
    "model_performance(features, df)"
   ]
  },
  {
   "cell_type": "markdown",
   "id": "64f359fa",
   "metadata": {},
   "source": [
    "#### Create new categorical variable based on apartment area"
   ]
  },
  {
   "cell_type": "code",
   "execution_count": 89,
   "id": "03d8cbc8",
   "metadata": {},
   "outputs": [
    {
     "data": {
      "text/html": [
       "<div>\n",
       "<style scoped>\n",
       "    .dataframe tbody tr th:only-of-type {\n",
       "        vertical-align: middle;\n",
       "    }\n",
       "\n",
       "    .dataframe tbody tr th {\n",
       "        vertical-align: top;\n",
       "    }\n",
       "\n",
       "    .dataframe thead th {\n",
       "        text-align: right;\n",
       "    }\n",
       "</style>\n",
       "<table border=\"1\" class=\"dataframe\">\n",
       "  <thead>\n",
       "    <tr style=\"text-align: right;\">\n",
       "      <th></th>\n",
       "      <th>area</th>\n",
       "      <th>area_cat</th>\n",
       "    </tr>\n",
       "  </thead>\n",
       "  <tbody>\n",
       "    <tr>\n",
       "      <th>0</th>\n",
       "      <td>49</td>\n",
       "      <td>0 - 49</td>\n",
       "    </tr>\n",
       "    <tr>\n",
       "      <th>1</th>\n",
       "      <td>111</td>\n",
       "      <td>100 - 500</td>\n",
       "    </tr>\n",
       "    <tr>\n",
       "      <th>2</th>\n",
       "      <td>58</td>\n",
       "      <td>50 - 99</td>\n",
       "    </tr>\n",
       "    <tr>\n",
       "      <th>3</th>\n",
       "      <td>118</td>\n",
       "      <td>100 - 500</td>\n",
       "    </tr>\n",
       "    <tr>\n",
       "      <th>4</th>\n",
       "      <td>66</td>\n",
       "      <td>50 - 99</td>\n",
       "    </tr>\n",
       "    <tr>\n",
       "      <th>5</th>\n",
       "      <td>61</td>\n",
       "      <td>50 - 99</td>\n",
       "    </tr>\n",
       "    <tr>\n",
       "      <th>6</th>\n",
       "      <td>65</td>\n",
       "      <td>50 - 99</td>\n",
       "    </tr>\n",
       "    <tr>\n",
       "      <th>7</th>\n",
       "      <td>101</td>\n",
       "      <td>100 - 500</td>\n",
       "    </tr>\n",
       "    <tr>\n",
       "      <th>8</th>\n",
       "      <td>68</td>\n",
       "      <td>50 - 99</td>\n",
       "    </tr>\n",
       "    <tr>\n",
       "      <th>9</th>\n",
       "      <td>191</td>\n",
       "      <td>100 - 500</td>\n",
       "    </tr>\n",
       "  </tbody>\n",
       "</table>\n",
       "</div>"
      ],
      "text/plain": [
       "   area   area_cat\n",
       "0    49     0 - 49\n",
       "1   111  100 - 500\n",
       "2    58    50 - 99\n",
       "3   118  100 - 500\n",
       "4    66    50 - 99\n",
       "5    61    50 - 99\n",
       "6    65    50 - 99\n",
       "7   101  100 - 500\n",
       "8    68    50 - 99\n",
       "9   191  100 - 500"
      ]
     },
     "execution_count": 89,
     "metadata": {},
     "output_type": "execute_result"
    }
   ],
   "source": [
    "labels = ['0 - 49', '50 - 99', '100 - 500']\n",
    "df[\"area_cat\"] = pd.cut(df.area, bins=[0, 50, 100, 500], labels=labels)\n",
    "df[['area', 'area_cat']].head(10)"
   ]
  },
  {
   "cell_type": "code",
   "execution_count": 90,
   "id": "106ae7de",
   "metadata": {},
   "outputs": [],
   "source": [
    "from sklearn.preprocessing import OrdinalEncoder\n",
    "\n",
    "area_cat = df['area_cat'].values.reshape(-1,1)\n",
    "ordinal_encoding = OrdinalEncoder()\n",
    "area_cat_encoded = ordinal_encoding.fit_transform(area_cat) \n",
    "\n",
    "df['area_cat_ecoded'] = area_cat_encoded\n"
   ]
  },
  {
   "cell_type": "code",
   "execution_count": 91,
   "id": "e5d6149a",
   "metadata": {},
   "outputs": [
    {
     "name": "stdout",
     "output_type": "stream",
     "text": [
      "CV results RMSE: [-624. -742. -624. -791. -689.]\n",
      "Mean RMSE: -694.0\n"
     ]
    }
   ],
   "source": [
    "# Without new features the performance is: AVG RMSE: -862.86\n",
    "\n",
    "features = ['rooms', 'area', 'pop', 'pop_dens', 'frg_pct', 'emp', 'tax_income', 'room_per_m2','density_factor', 'luxurious', 'temporary', 'furnished', 'area_cat_ecoded']\n",
    "model_performance(features, df)"
   ]
  },
  {
   "cell_type": "markdown",
   "id": "4d456214",
   "metadata": {},
   "source": [
    "### Luxurious One Hot Encoding\n",
    "One-Hot Encoding is a technique used in machine learning to convert categorical variables into a binary (0/1) format. Each unique category is represented as a separate column, and a 1 is assigned if that category is present, otherwise, it's 0."
   ]
  },
  {
   "cell_type": "markdown",
   "id": "9837b630",
   "metadata": {},
   "source": [
    "Example:\n",
    "\n",
    "| description_raw                                         | (ATTIKA) | (EXKLUSIV) | (LOFT) | (LUXURIÖS) | (POOL) | (SEESICHT) | (NONE) |\n",
    "|---------------------------------------------------------|----------|------------|--------|------------|--------|------------|--------|\n",
    "| Dieses Apartment ist sehr LUXURIÖS mit POOL.           | 0        | 0          | 0      | 1          | 1      | 0          | 0      |\n",
    "| Ein tolles LOFT mit SEESICHT und EXKLUSIVEM Design.    | 0        | 1          | 1      | 0          | 0      | 1          | 0      |\n",
    "| Normale Wohnung ohne Extras.                           | 0        | 0          | 0      | 0          | 0      | 0          | 1      |\n",
    "| Schöne Aussicht, aber keine besonderen Merkmale.       | 0        | 0          | 0      | 0          | 0      | 0          | 1      |\n"
   ]
  },
  {
   "cell_type": "code",
   "execution_count": 92,
   "id": "3fe9537c",
   "metadata": {},
   "outputs": [],
   "source": [
    "# If you want to test one hot encoding with multiple categories\n",
    "#df.loc[0, \"description_raw\"] = 'Ein tolles LOFT mit SEESICHT und EXKLUSIVEM Design.'\n",
    "#df.iloc[0].description_raw"
   ]
  },
  {
   "cell_type": "code",
   "execution_count": 93,
   "id": "f7568b56",
   "metadata": {},
   "outputs": [],
   "source": [
    "# Define terms for encoding\n",
    "terms = {'(ATTIKA)', '(EXKLUSIV)', '(LOFT)', '(LUXURIÖS)', '(POOL)', '(SEESICHT)'}\n",
    "\n",
    "# Create one-hot encoded columns\n",
    "for term in terms:\n",
    "    df[term] = df['description_raw'].str.contains(term.strip(\"()\"), case=False, na=False).astype(int)\n"
   ]
  },
  {
   "cell_type": "code",
   "execution_count": 94,
   "id": "ddb20402",
   "metadata": {},
   "outputs": [
    {
     "name": "stdout",
     "output_type": "stream",
     "text": [
      "CV results RMSE: [-614. -723. -612. -790. -660.]\n",
      "Mean RMSE: -679.8\n"
     ]
    }
   ],
   "source": [
    "features = ['rooms', 'area', 'pop', 'pop_dens', 'frg_pct', 'emp', 'tax_income', 'room_per_m2','density_factor', 'luxurious', 'temporary', 'furnished', 'area_cat_ecoded',\n",
    "       '(LUXURIÖS)', '(POOL)', '(SEESICHT)',\n",
    "       '(EXKLUSIV)', '(ATTIKA)', '(LOFT)']\n",
    "model_performance(features, df)"
   ]
  },
  {
   "cell_type": "markdown",
   "id": "849a6ac8",
   "metadata": {},
   "source": [
    "### Split Zurich into Kreis\n",
    "\n",
    "<div style=\"border-left: 4px solid #0073e6; padding: 10px; background-color: #e6f2ff; color: black;\">\n",
    "  <strong>Note:</strong>To obtain the latitude and longitude, please refer to the slides attachment. We haven't included them here because they are extracted from an API, and if every student attempts to retrieve them, the API may not respond well. 😉\n",
    "</div>"
   ]
  },
  {
   "cell_type": "code",
   "execution_count": 95,
   "id": "15458d96",
   "metadata": {},
   "outputs": [
    {
     "name": "stdout",
     "output_type": "stream",
     "text": [
      "     bfs_number              town  counts\n",
      "111         261            Zürich     262\n",
      "99          230        Winterthur      96\n",
      "56          121       Wetzikon ZH      20\n",
      "86          198             Uster      18\n",
      "15           53            Bülach      15\n",
      "..          ...               ...     ...\n",
      "84          196       Mönchaltorf       1\n",
      "92          224        Neftenbach       1\n",
      "105         248   Uitikon Waldegg       1\n",
      "108         250            Urdorf       1\n",
      "115         298      Wiesendangen       1\n",
      "\n",
      "[116 rows x 3 columns]\n"
     ]
    }
   ],
   "source": [
    "bfs_number_counts = df.groupby(['bfs_number', 'town']).size().reset_index(name='counts').sort_values(by='counts', ascending=False)\n",
    "print(bfs_number_counts)"
   ]
  },
  {
   "cell_type": "code",
   "execution_count": 96,
   "id": "5c635f0b",
   "metadata": {},
   "outputs": [
    {
     "data": {
      "text/html": [
       "<div>\n",
       "<style scoped>\n",
       "    .dataframe tbody tr th:only-of-type {\n",
       "        vertical-align: middle;\n",
       "    }\n",
       "\n",
       "    .dataframe tbody tr th {\n",
       "        vertical-align: top;\n",
       "    }\n",
       "\n",
       "    .dataframe thead th {\n",
       "        text-align: right;\n",
       "    }\n",
       "</style>\n",
       "<table border=\"1\" class=\"dataframe\">\n",
       "  <thead>\n",
       "    <tr style=\"text-align: right;\">\n",
       "      <th></th>\n",
       "      <th>bfs_number</th>\n",
       "      <th>rooms</th>\n",
       "      <th>area</th>\n",
       "      <th>price</th>\n",
       "      <th>postalcode</th>\n",
       "      <th>address</th>\n",
       "      <th>town</th>\n",
       "      <th>description_raw</th>\n",
       "      <th>bfs_name</th>\n",
       "      <th>pop</th>\n",
       "      <th>...</th>\n",
       "      <th>Kreis 12</th>\n",
       "      <th>Kreis 10</th>\n",
       "      <th>Kreis 4</th>\n",
       "      <th>Kreis 1</th>\n",
       "      <th>Kreis 9</th>\n",
       "      <th>Kreis 5</th>\n",
       "      <th>Kreis 7</th>\n",
       "      <th>Kreis 3</th>\n",
       "      <th>Kreis 2</th>\n",
       "      <th>Kreis 8</th>\n",
       "    </tr>\n",
       "  </thead>\n",
       "  <tbody>\n",
       "    <tr>\n",
       "      <th>0</th>\n",
       "      <td>118</td>\n",
       "      <td>3.0</td>\n",
       "      <td>49</td>\n",
       "      <td>1441</td>\n",
       "      <td>8630</td>\n",
       "      <td>Neuhusstrasse 6, 8630 Rüti ZH</td>\n",
       "      <td>Rüti ZH</td>\n",
       "      <td>«Gemütliche Wohnung im Grünen»</td>\n",
       "      <td>Rüti (ZH)</td>\n",
       "      <td>12286</td>\n",
       "      <td>...</td>\n",
       "      <td>0</td>\n",
       "      <td>0</td>\n",
       "      <td>0</td>\n",
       "      <td>0</td>\n",
       "      <td>0</td>\n",
       "      <td>0</td>\n",
       "      <td>0</td>\n",
       "      <td>0</td>\n",
       "      <td>0</td>\n",
       "      <td>0</td>\n",
       "    </tr>\n",
       "    <tr>\n",
       "      <th>1</th>\n",
       "      <td>118</td>\n",
       "      <td>3.0</td>\n",
       "      <td>111</td>\n",
       "      <td>2600</td>\n",
       "      <td>8630</td>\n",
       "      <td>Widacherstrasse 5, 8630 Rüti ZH</td>\n",
       "      <td>Rüti ZH</td>\n",
       "      <td>«3 Zimmer-Maisonette-Wohnung»</td>\n",
       "      <td>Rüti (ZH)</td>\n",
       "      <td>12286</td>\n",
       "      <td>...</td>\n",
       "      <td>0</td>\n",
       "      <td>0</td>\n",
       "      <td>0</td>\n",
       "      <td>0</td>\n",
       "      <td>0</td>\n",
       "      <td>0</td>\n",
       "      <td>0</td>\n",
       "      <td>0</td>\n",
       "      <td>0</td>\n",
       "      <td>0</td>\n",
       "    </tr>\n",
       "    <tr>\n",
       "      <th>2</th>\n",
       "      <td>118</td>\n",
       "      <td>3.0</td>\n",
       "      <td>58</td>\n",
       "      <td>1490</td>\n",
       "      <td>8630</td>\n",
       "      <td>Widenweg 14, 8630 Rüti ZH</td>\n",
       "      <td>Rüti ZH</td>\n",
       "      <td>«Ruhig &amp; Grün , Genau was Sie suchen !»</td>\n",
       "      <td>Rüti (ZH)</td>\n",
       "      <td>12286</td>\n",
       "      <td>...</td>\n",
       "      <td>0</td>\n",
       "      <td>0</td>\n",
       "      <td>0</td>\n",
       "      <td>0</td>\n",
       "      <td>0</td>\n",
       "      <td>0</td>\n",
       "      <td>0</td>\n",
       "      <td>0</td>\n",
       "      <td>0</td>\n",
       "      <td>0</td>\n",
       "    </tr>\n",
       "    <tr>\n",
       "      <th>3</th>\n",
       "      <td>118</td>\n",
       "      <td>4.0</td>\n",
       "      <td>118</td>\n",
       "      <td>3240</td>\n",
       "      <td>8630</td>\n",
       "      <td>Rain 1, 8630 Rüti ZH</td>\n",
       "      <td>Rüti ZH</td>\n",
       "      <td>«Gemütliches 4-Zimmer-Reihenhaus in zentraler ...</td>\n",
       "      <td>Rüti (ZH)</td>\n",
       "      <td>12286</td>\n",
       "      <td>...</td>\n",
       "      <td>0</td>\n",
       "      <td>0</td>\n",
       "      <td>0</td>\n",
       "      <td>0</td>\n",
       "      <td>0</td>\n",
       "      <td>0</td>\n",
       "      <td>0</td>\n",
       "      <td>0</td>\n",
       "      <td>0</td>\n",
       "      <td>0</td>\n",
       "    </tr>\n",
       "    <tr>\n",
       "      <th>4</th>\n",
       "      <td>118</td>\n",
       "      <td>3.0</td>\n",
       "      <td>66</td>\n",
       "      <td>1450</td>\n",
       "      <td>8630</td>\n",
       "      <td>Bachtelstrasse 24b, 8630 Rüti ZH</td>\n",
       "      <td>Rüti ZH</td>\n",
       "      <td>«Schöne 3-Zimmerwohnung in ruhigem Quartier»</td>\n",
       "      <td>Rüti (ZH)</td>\n",
       "      <td>12286</td>\n",
       "      <td>...</td>\n",
       "      <td>0</td>\n",
       "      <td>0</td>\n",
       "      <td>0</td>\n",
       "      <td>0</td>\n",
       "      <td>0</td>\n",
       "      <td>0</td>\n",
       "      <td>0</td>\n",
       "      <td>0</td>\n",
       "      <td>0</td>\n",
       "      <td>0</td>\n",
       "    </tr>\n",
       "  </tbody>\n",
       "</table>\n",
       "<p>5 rows × 44 columns</p>\n",
       "</div>"
      ],
      "text/plain": [
       "   bfs_number  rooms  area  price  postalcode  \\\n",
       "0         118    3.0    49   1441        8630   \n",
       "1         118    3.0   111   2600        8630   \n",
       "2         118    3.0    58   1490        8630   \n",
       "3         118    4.0   118   3240        8630   \n",
       "4         118    3.0    66   1450        8630   \n",
       "\n",
       "                            address      town  \\\n",
       "0     Neuhusstrasse 6, 8630 Rüti ZH   Rüti ZH   \n",
       "1   Widacherstrasse 5, 8630 Rüti ZH   Rüti ZH   \n",
       "2         Widenweg 14, 8630 Rüti ZH   Rüti ZH   \n",
       "3              Rain 1, 8630 Rüti ZH   Rüti ZH   \n",
       "4  Bachtelstrasse 24b, 8630 Rüti ZH   Rüti ZH   \n",
       "\n",
       "                                     description_raw   bfs_name    pop  ...  \\\n",
       "0                     «Gemütliche Wohnung im Grünen»  Rüti (ZH)  12286  ...   \n",
       "1                      «3 Zimmer-Maisonette-Wohnung»  Rüti (ZH)  12286  ...   \n",
       "2            «Ruhig & Grün , Genau was Sie suchen !»  Rüti (ZH)  12286  ...   \n",
       "3  «Gemütliches 4-Zimmer-Reihenhaus in zentraler ...  Rüti (ZH)  12286  ...   \n",
       "4       «Schöne 3-Zimmerwohnung in ruhigem Quartier»  Rüti (ZH)  12286  ...   \n",
       "\n",
       "   Kreis 12  Kreis 10  Kreis 4  Kreis 1  Kreis 9  Kreis 5  Kreis 7  Kreis 3  \\\n",
       "0         0         0        0        0        0        0        0        0   \n",
       "1         0         0        0        0        0        0        0        0   \n",
       "2         0         0        0        0        0        0        0        0   \n",
       "3         0         0        0        0        0        0        0        0   \n",
       "4         0         0        0        0        0        0        0        0   \n",
       "\n",
       "   Kreis 2  Kreis 8  \n",
       "0        0        0  \n",
       "1        0        0  \n",
       "2        0        0  \n",
       "3        0        0  \n",
       "4        0        0  \n",
       "\n",
       "[5 rows x 44 columns]"
      ]
     },
     "execution_count": 96,
     "metadata": {},
     "output_type": "execute_result"
    }
   ],
   "source": [
    "from shapely.geometry import Point\n",
    "import geopandas as gpd\n",
    "\n",
    "# Convert lat/lon to Shapely Points\n",
    "df['geometry'] = df.apply(lambda row: Point(row['lon'], row['lat']), axis=1)\n",
    "\n",
    "# Load GeoDataFrame with polygons of the city of Zurich\n",
    "gdf = gpd.read_file('stzh.adm_stadtkreise_a.json')\n",
    "\n",
    "# Initialize one-hot encoding columns with 0s\n",
    "for name in gdf['bezeichnung']:\n",
    "    df[name] = 0  \n",
    "\n",
    "# Iterate through each polygon and check if the points are inside\n",
    "for _, row in gdf.iterrows():\n",
    "    polygon_name = row['bezeichnung']\n",
    "    polygon_geom = row['geometry']\n",
    "    \n",
    "    # Check if each point is inside the polygon and update the corresponding column\n",
    "    df[polygon_name] = df['geometry'].apply(lambda point: 1 if polygon_geom.contains(point) else 0)\n",
    "\n",
    "# Drop the geometry column (optional)\n",
    "df.drop(columns=['geometry'], inplace=True)\n",
    "df.head()"
   ]
  },
  {
   "cell_type": "code",
   "execution_count": 97,
   "id": "b20b8da5",
   "metadata": {},
   "outputs": [
    {
     "data": {
      "text/html": [
       "<div>\n",
       "<style scoped>\n",
       "    .dataframe tbody tr th:only-of-type {\n",
       "        vertical-align: middle;\n",
       "    }\n",
       "\n",
       "    .dataframe tbody tr th {\n",
       "        vertical-align: top;\n",
       "    }\n",
       "\n",
       "    .dataframe thead th {\n",
       "        text-align: right;\n",
       "    }\n",
       "</style>\n",
       "<table border=\"1\" class=\"dataframe\">\n",
       "  <thead>\n",
       "    <tr style=\"text-align: right;\">\n",
       "      <th></th>\n",
       "      <th>town</th>\n",
       "      <th>address</th>\n",
       "      <th>Kreis 1</th>\n",
       "      <th>Kreis 2</th>\n",
       "      <th>Kreis 3</th>\n",
       "      <th>Kreis 4</th>\n",
       "      <th>Kreis 5</th>\n",
       "      <th>Kreis 6</th>\n",
       "      <th>Kreis 7</th>\n",
       "      <th>Kreis 8</th>\n",
       "      <th>Kreis 9</th>\n",
       "      <th>Kreis 10</th>\n",
       "      <th>Kreis 11</th>\n",
       "      <th>Kreis 12</th>\n",
       "    </tr>\n",
       "  </thead>\n",
       "  <tbody>\n",
       "    <tr>\n",
       "      <th>10</th>\n",
       "      <td>Zürich</td>\n",
       "      <td>Cramerstrasse 8-12, 8004 Zürich</td>\n",
       "      <td>0</td>\n",
       "      <td>0</td>\n",
       "      <td>0</td>\n",
       "      <td>1</td>\n",
       "      <td>0</td>\n",
       "      <td>0</td>\n",
       "      <td>0</td>\n",
       "      <td>0</td>\n",
       "      <td>0</td>\n",
       "      <td>0</td>\n",
       "      <td>0</td>\n",
       "      <td>0</td>\n",
       "    </tr>\n",
       "    <tr>\n",
       "      <th>11</th>\n",
       "      <td>Zürich</td>\n",
       "      <td>8004 Zürich</td>\n",
       "      <td>0</td>\n",
       "      <td>0</td>\n",
       "      <td>0</td>\n",
       "      <td>1</td>\n",
       "      <td>0</td>\n",
       "      <td>0</td>\n",
       "      <td>0</td>\n",
       "      <td>0</td>\n",
       "      <td>0</td>\n",
       "      <td>0</td>\n",
       "      <td>0</td>\n",
       "      <td>0</td>\n",
       "    </tr>\n",
       "    <tr>\n",
       "      <th>12</th>\n",
       "      <td>Zürich</td>\n",
       "      <td>8004 Zürich</td>\n",
       "      <td>0</td>\n",
       "      <td>0</td>\n",
       "      <td>0</td>\n",
       "      <td>1</td>\n",
       "      <td>0</td>\n",
       "      <td>0</td>\n",
       "      <td>0</td>\n",
       "      <td>0</td>\n",
       "      <td>0</td>\n",
       "      <td>0</td>\n",
       "      <td>0</td>\n",
       "      <td>0</td>\n",
       "    </tr>\n",
       "    <tr>\n",
       "      <th>13</th>\n",
       "      <td>Zürich</td>\n",
       "      <td>Hildastrasse 1, 8004 Zürich</td>\n",
       "      <td>0</td>\n",
       "      <td>0</td>\n",
       "      <td>0</td>\n",
       "      <td>1</td>\n",
       "      <td>0</td>\n",
       "      <td>0</td>\n",
       "      <td>0</td>\n",
       "      <td>0</td>\n",
       "      <td>0</td>\n",
       "      <td>0</td>\n",
       "      <td>0</td>\n",
       "      <td>0</td>\n",
       "    </tr>\n",
       "    <tr>\n",
       "      <th>14</th>\n",
       "      <td>Zürich</td>\n",
       "      <td>Badenerstrasse 123, 8004 Zürich</td>\n",
       "      <td>0</td>\n",
       "      <td>0</td>\n",
       "      <td>0</td>\n",
       "      <td>1</td>\n",
       "      <td>0</td>\n",
       "      <td>0</td>\n",
       "      <td>0</td>\n",
       "      <td>0</td>\n",
       "      <td>0</td>\n",
       "      <td>0</td>\n",
       "      <td>0</td>\n",
       "      <td>0</td>\n",
       "    </tr>\n",
       "    <tr>\n",
       "      <th>15</th>\n",
       "      <td>Zürich</td>\n",
       "      <td>8004 Zürich</td>\n",
       "      <td>0</td>\n",
       "      <td>0</td>\n",
       "      <td>0</td>\n",
       "      <td>1</td>\n",
       "      <td>0</td>\n",
       "      <td>0</td>\n",
       "      <td>0</td>\n",
       "      <td>0</td>\n",
       "      <td>0</td>\n",
       "      <td>0</td>\n",
       "      <td>0</td>\n",
       "      <td>0</td>\n",
       "    </tr>\n",
       "    <tr>\n",
       "      <th>17</th>\n",
       "      <td>Zürich</td>\n",
       "      <td>Badenerstrasse 250, 8004 Zürich</td>\n",
       "      <td>0</td>\n",
       "      <td>0</td>\n",
       "      <td>0</td>\n",
       "      <td>1</td>\n",
       "      <td>0</td>\n",
       "      <td>0</td>\n",
       "      <td>0</td>\n",
       "      <td>0</td>\n",
       "      <td>0</td>\n",
       "      <td>0</td>\n",
       "      <td>0</td>\n",
       "      <td>0</td>\n",
       "    </tr>\n",
       "    <tr>\n",
       "      <th>18</th>\n",
       "      <td>Zürich</td>\n",
       "      <td>Dienerstrasse 59, 8004 Zürich</td>\n",
       "      <td>0</td>\n",
       "      <td>0</td>\n",
       "      <td>0</td>\n",
       "      <td>1</td>\n",
       "      <td>0</td>\n",
       "      <td>0</td>\n",
       "      <td>0</td>\n",
       "      <td>0</td>\n",
       "      <td>0</td>\n",
       "      <td>0</td>\n",
       "      <td>0</td>\n",
       "      <td>0</td>\n",
       "    </tr>\n",
       "    <tr>\n",
       "      <th>19</th>\n",
       "      <td>Zürich</td>\n",
       "      <td>Badenerstrasse  250, 8004 Zürich</td>\n",
       "      <td>0</td>\n",
       "      <td>0</td>\n",
       "      <td>0</td>\n",
       "      <td>1</td>\n",
       "      <td>0</td>\n",
       "      <td>0</td>\n",
       "      <td>0</td>\n",
       "      <td>0</td>\n",
       "      <td>0</td>\n",
       "      <td>0</td>\n",
       "      <td>0</td>\n",
       "      <td>0</td>\n",
       "    </tr>\n",
       "    <tr>\n",
       "      <th>20</th>\n",
       "      <td>Zürich</td>\n",
       "      <td>Badenerstrasse  250, 8004 Zürich</td>\n",
       "      <td>0</td>\n",
       "      <td>0</td>\n",
       "      <td>0</td>\n",
       "      <td>1</td>\n",
       "      <td>0</td>\n",
       "      <td>0</td>\n",
       "      <td>0</td>\n",
       "      <td>0</td>\n",
       "      <td>0</td>\n",
       "      <td>0</td>\n",
       "      <td>0</td>\n",
       "      <td>0</td>\n",
       "    </tr>\n",
       "  </tbody>\n",
       "</table>\n",
       "</div>"
      ],
      "text/plain": [
       "       town                           address  Kreis 1  Kreis 2  Kreis 3  \\\n",
       "10   Zürich   Cramerstrasse 8-12, 8004 Zürich        0        0        0   \n",
       "11   Zürich                       8004 Zürich        0        0        0   \n",
       "12   Zürich                       8004 Zürich        0        0        0   \n",
       "13   Zürich       Hildastrasse 1, 8004 Zürich        0        0        0   \n",
       "14   Zürich   Badenerstrasse 123, 8004 Zürich        0        0        0   \n",
       "15   Zürich                       8004 Zürich        0        0        0   \n",
       "17   Zürich   Badenerstrasse 250, 8004 Zürich        0        0        0   \n",
       "18   Zürich     Dienerstrasse 59, 8004 Zürich        0        0        0   \n",
       "19   Zürich  Badenerstrasse  250, 8004 Zürich        0        0        0   \n",
       "20   Zürich  Badenerstrasse  250, 8004 Zürich        0        0        0   \n",
       "\n",
       "    Kreis 4  Kreis 5  Kreis 6  Kreis 7  Kreis 8  Kreis 9  Kreis 10  Kreis 11  \\\n",
       "10        1        0        0        0        0        0         0         0   \n",
       "11        1        0        0        0        0        0         0         0   \n",
       "12        1        0        0        0        0        0         0         0   \n",
       "13        1        0        0        0        0        0         0         0   \n",
       "14        1        0        0        0        0        0         0         0   \n",
       "15        1        0        0        0        0        0         0         0   \n",
       "17        1        0        0        0        0        0         0         0   \n",
       "18        1        0        0        0        0        0         0         0   \n",
       "19        1        0        0        0        0        0         0         0   \n",
       "20        1        0        0        0        0        0         0         0   \n",
       "\n",
       "    Kreis 12  \n",
       "10         0  \n",
       "11         0  \n",
       "12         0  \n",
       "13         0  \n",
       "14         0  \n",
       "15         0  \n",
       "17         0  \n",
       "18         0  \n",
       "19         0  \n",
       "20         0  "
      ]
     },
     "execution_count": 97,
     "metadata": {},
     "output_type": "execute_result"
    }
   ],
   "source": [
    "df[df.bfs_number == 261][['town', 'address', \"Kreis 1\", \"Kreis 2\", \"Kreis 3\", \"Kreis 4\", \n",
    "        \"Kreis 5\", \"Kreis 6\", \"Kreis 7\", \"Kreis 8\", \n",
    "        \"Kreis 9\", \"Kreis 10\", \"Kreis 11\", \"Kreis 12\"]].head(10)"
   ]
  },
  {
   "cell_type": "code",
   "execution_count": 98,
   "id": "b163bdc7",
   "metadata": {},
   "outputs": [
    {
     "name": "stdout",
     "output_type": "stream",
     "text": [
      "CV results RMSE: [-594. -665. -568. -773. -660.]\n",
      "Mean RMSE: -652.0\n"
     ]
    }
   ],
   "source": [
    "features = ['rooms', 'area', 'pop', 'pop_dens', 'frg_pct', 'emp', 'tax_income', 'room_per_m2','density_factor','luxurious', 'temporary', 'furnished', 'area_cat_ecoded',\n",
    "       '(LUXURIÖS)', '(POOL)', '(SEESICHT)',\n",
    "       '(EXKLUSIV)', '(ATTIKA)', '(LOFT)', 'Kreis 6', 'Kreis 11', 'Kreis 12', 'Kreis 10',\n",
    "       'Kreis 4', 'Kreis 1', 'Kreis 9', 'Kreis 5', 'Kreis 7', 'Kreis 3',\n",
    "       'Kreis 2', 'Kreis 8']\n",
    "model_performance(features, df)"
   ]
  },
  {
   "cell_type": "markdown",
   "id": "882c8a49",
   "metadata": {},
   "source": [
    "### Fix pop_dens and pop of city of zurich"
   ]
  },
  {
   "cell_type": "code",
   "execution_count": 99,
   "id": "838f9336",
   "metadata": {},
   "outputs": [
    {
     "data": {
      "text/html": [
       "<div>\n",
       "<style scoped>\n",
       "    .dataframe tbody tr th:only-of-type {\n",
       "        vertical-align: middle;\n",
       "    }\n",
       "\n",
       "    .dataframe tbody tr th {\n",
       "        vertical-align: top;\n",
       "    }\n",
       "\n",
       "    .dataframe thead th {\n",
       "        text-align: right;\n",
       "    }\n",
       "</style>\n",
       "<table border=\"1\" class=\"dataframe\">\n",
       "  <thead>\n",
       "    <tr style=\"text-align: right;\">\n",
       "      <th></th>\n",
       "      <th>ID</th>\n",
       "      <th>Kreis</th>\n",
       "      <th>pop</th>\n",
       "      <th>pop_dens</th>\n",
       "    </tr>\n",
       "  </thead>\n",
       "  <tbody>\n",
       "    <tr>\n",
       "      <th>0</th>\n",
       "      <td>1</td>\n",
       "      <td>Kreis 1</td>\n",
       "      <td>5890</td>\n",
       "      <td>3232</td>\n",
       "    </tr>\n",
       "    <tr>\n",
       "      <th>1</th>\n",
       "      <td>2</td>\n",
       "      <td>Kreis 2</td>\n",
       "      <td>37639</td>\n",
       "      <td>3254</td>\n",
       "    </tr>\n",
       "    <tr>\n",
       "      <th>2</th>\n",
       "      <td>3</td>\n",
       "      <td>Kreis 3</td>\n",
       "      <td>50950</td>\n",
       "      <td>5792</td>\n",
       "    </tr>\n",
       "    <tr>\n",
       "      <th>3</th>\n",
       "      <td>4</td>\n",
       "      <td>Kreis 4</td>\n",
       "      <td>29944</td>\n",
       "      <td>10008</td>\n",
       "    </tr>\n",
       "    <tr>\n",
       "      <th>4</th>\n",
       "      <td>5</td>\n",
       "      <td>Kreis 5</td>\n",
       "      <td>15874</td>\n",
       "      <td>7942</td>\n",
       "    </tr>\n",
       "    <tr>\n",
       "      <th>5</th>\n",
       "      <td>6</td>\n",
       "      <td>Kreis 6</td>\n",
       "      <td>35688</td>\n",
       "      <td>6932</td>\n",
       "    </tr>\n",
       "    <tr>\n",
       "      <th>6</th>\n",
       "      <td>7</td>\n",
       "      <td>Kreis 7</td>\n",
       "      <td>39647</td>\n",
       "      <td>2574</td>\n",
       "    </tr>\n",
       "    <tr>\n",
       "      <th>7</th>\n",
       "      <td>8</td>\n",
       "      <td>Kreis 8</td>\n",
       "      <td>17860</td>\n",
       "      <td>3704</td>\n",
       "    </tr>\n",
       "    <tr>\n",
       "      <th>8</th>\n",
       "      <td>9</td>\n",
       "      <td>Kreis 9</td>\n",
       "      <td>59841</td>\n",
       "      <td>4729</td>\n",
       "    </tr>\n",
       "    <tr>\n",
       "      <th>9</th>\n",
       "      <td>10</td>\n",
       "      <td>Kreis 10</td>\n",
       "      <td>41411</td>\n",
       "      <td>4512</td>\n",
       "    </tr>\n",
       "    <tr>\n",
       "      <th>10</th>\n",
       "      <td>11</td>\n",
       "      <td>Kreis 11</td>\n",
       "      <td>78801</td>\n",
       "      <td>5736</td>\n",
       "    </tr>\n",
       "    <tr>\n",
       "      <th>11</th>\n",
       "      <td>12</td>\n",
       "      <td>Kreis 12</td>\n",
       "      <td>33537</td>\n",
       "      <td>5470</td>\n",
       "    </tr>\n",
       "  </tbody>\n",
       "</table>\n",
       "</div>"
      ],
      "text/plain": [
       "    ID     Kreis    pop  pop_dens\n",
       "0    1   Kreis 1   5890      3232\n",
       "1    2   Kreis 2  37639      3254\n",
       "2    3   Kreis 3  50950      5792\n",
       "3    4   Kreis 4  29944     10008\n",
       "4    5   Kreis 5  15874      7942\n",
       "5    6   Kreis 6  35688      6932\n",
       "6    7   Kreis 7  39647      2574\n",
       "7    8   Kreis 8  17860      3704\n",
       "8    9   Kreis 9  59841      4729\n",
       "9   10  Kreis 10  41411      4512\n",
       "10  11  Kreis 11  78801      5736\n",
       "11  12  Kreis 12  33537      5470"
      ]
     },
     "execution_count": 99,
     "metadata": {},
     "output_type": "execute_result"
    }
   ],
   "source": [
    "# Creating the DataFrame with pop and pop_dens for each Kreis\n",
    "data = {\n",
    "    \"ID\": [1, 2, 3, 4, 5, 6, 7, 8, 9, 10, 11, 12],\n",
    "    \"Kreis\": [\n",
    "        \"Kreis 1\", \"Kreis 2\", \"Kreis 3\", \"Kreis 4\", \n",
    "        \"Kreis 5\", \"Kreis 6\", \"Kreis 7\", \"Kreis 8\", \n",
    "        \"Kreis 9\", \"Kreis 10\", \"Kreis 11\", \"Kreis 12\"\n",
    "    ],\n",
    "    \"pop\": [5890, 37639, 50950, 29944, 15874, 35688, 39647, 17860, 59841, 41411, 78801, 33537],\n",
    "    \"pop_dens\": [3232, 3254, 5792, 10008, 7942, 6932, 2574, 3704, 4729, 4512, 5736, 5470]\n",
    "}\n",
    "\n",
    "zuerich_pop_dens = pd.DataFrame(data)\n",
    "zuerich_pop_dens"
   ]
  },
  {
   "cell_type": "code",
   "execution_count": 100,
   "id": "9140b08f",
   "metadata": {},
   "outputs": [],
   "source": [
    "#Applying pop and pop_dens to df of Zurich\n",
    "kreis_columns = ['Kreis 6', 'Kreis 11', 'Kreis 12', 'Kreis 10', 'Kreis 4', 'Kreis 1', 'Kreis 9', 'Kreis 5', 'Kreis 7', 'Kreis 3', 'Kreis 2', 'Kreis 8']\n",
    "\n",
    "for kreis_nr in kreis_columns:\n",
    "    df.loc[df[kreis_nr] == 1, 'pop'] = zuerich_pop_dens[zuerich_pop_dens['Kreis'] == kreis_nr]['pop'].values[0]\n",
    "    df.loc[df[kreis_nr] == 1, 'pop_dens'] = zuerich_pop_dens[zuerich_pop_dens['Kreis'] == kreis_nr]['pop_dens'].values[0]"
   ]
  },
  {
   "cell_type": "code",
   "execution_count": 101,
   "id": "1002794f",
   "metadata": {},
   "outputs": [
    {
     "data": {
      "text/plain": [
       "10     10008.0\n",
       "11     10008.0\n",
       "12     10008.0\n",
       "13     10008.0\n",
       "14     10008.0\n",
       "        ...   \n",
       "280     5792.0\n",
       "281     5792.0\n",
       "282     5792.0\n",
       "283     5792.0\n",
       "284     4729.0\n",
       "Name: pop_dens, Length: 266, dtype: float64"
      ]
     },
     "execution_count": 101,
     "metadata": {},
     "output_type": "execute_result"
    }
   ],
   "source": [
    "df[df.bfs_number==261].pop_dens"
   ]
  },
  {
   "cell_type": "code",
   "execution_count": 102,
   "id": "10519cca",
   "metadata": {},
   "outputs": [
    {
     "name": "stdout",
     "output_type": "stream",
     "text": [
      "CV results RMSE: [-594. -653. -561. -768. -659.]\n",
      "Mean RMSE: -647.0\n"
     ]
    }
   ],
   "source": [
    "features = ['rooms', 'area', 'pop', 'pop_dens', 'frg_pct', 'emp', 'tax_income', 'room_per_m2','density_factor','luxurious', 'temporary', 'furnished', 'area_cat_ecoded',\n",
    "       '(LUXURIÖS)', '(POOL)', '(SEESICHT)',\n",
    "       '(EXKLUSIV)', '(ATTIKA)', '(LOFT)', 'Kreis 6', 'Kreis 11', 'Kreis 12', 'Kreis 10',\n",
    "       'Kreis 4', 'Kreis 1', 'Kreis 9', 'Kreis 5', 'Kreis 7', 'Kreis 3',\n",
    "       'Kreis 2', 'Kreis 8']\n",
    "model_performance(features, df)"
   ]
  },
  {
   "cell_type": "code",
   "execution_count": 103,
   "id": "a4640145",
   "metadata": {},
   "outputs": [],
   "source": [
    "df['zurich_city'] = 0\n",
    "df.loc[df[kreis_columns].any(axis=1), 'zurich_city'] = 1"
   ]
  },
  {
   "cell_type": "code",
   "execution_count": 104,
   "id": "3e563b64",
   "metadata": {},
   "outputs": [
    {
     "name": "stdout",
     "output_type": "stream",
     "text": [
      "CV results RMSE: [-598. -646. -571. -766. -661.]\n",
      "Mean RMSE: -648.4\n"
     ]
    }
   ],
   "source": [
    "features = ['rooms', 'area', 'pop', 'pop_dens', 'frg_pct', 'emp', 'tax_income', 'room_per_m2','density_factor', 'luxurious', 'temporary', 'furnished', 'area_cat_ecoded',\n",
    "       '(LUXURIÖS)', '(POOL)', '(SEESICHT)',\n",
    "       '(EXKLUSIV)', '(ATTIKA)', '(LOFT)', 'Kreis 6', 'Kreis 11', 'Kreis 12', 'Kreis 10',\n",
    "       'Kreis 4', 'Kreis 1', 'Kreis 9', 'Kreis 5', 'Kreis 7', 'Kreis 3',\n",
    "       'Kreis 2', 'Kreis 8', 'zurich_city']\n",
    "model_performance(features, df)"
   ]
  },
  {
   "cell_type": "markdown",
   "id": "178125cb",
   "metadata": {},
   "source": [
    "### Check how new Feature performs with other features"
   ]
  },
  {
   "cell_type": "code",
   "execution_count": 105,
   "id": "acff2319",
   "metadata": {},
   "outputs": [
    {
     "name": "stdout",
     "output_type": "stream",
     "text": [
      "CV results RMSE: [-598. -646. -571. -766. -661.]\n",
      "Mean RMSE: -648.4\n"
     ]
    }
   ],
   "source": [
    "features = ['rooms', 'area', 'pop', 'pop_dens', 'frg_pct', 'emp', 'tax_income', 'room_per_m2','density_factor', 'luxurious', 'temporary', 'furnished', 'area_cat_ecoded',\n",
    "       '(LUXURIÖS)', '(POOL)', '(SEESICHT)',\n",
    "       '(EXKLUSIV)', '(ATTIKA)', '(LOFT)', 'Kreis 6', 'Kreis 11', 'Kreis 12', 'Kreis 10',\n",
    "       'Kreis 4', 'Kreis 1', 'Kreis 9', 'Kreis 5', 'Kreis 7', 'Kreis 3',\n",
    "       'Kreis 2', 'Kreis 8', 'zurich_city']\n",
    "model_performance(features, df)"
   ]
  },
  {
   "cell_type": "code",
   "execution_count": 106,
   "id": "c977b2e9",
   "metadata": {},
   "outputs": [
    {
     "data": {
      "text/plain": [
       "<Axes: ylabel='features'>"
      ]
     },
     "execution_count": 106,
     "metadata": {},
     "output_type": "execute_result"
    },
    {
     "data": {
      "image/png": "[encoded data removed]",
      "text/plain": [
       "<Figure size 640x480 with 1 Axes>"
      ]
     },
     "metadata": {},
     "output_type": "display_data"
    }
   ],
   "source": [
    "# train random_forest_model = RandomForestRegressor()\n",
    "random_forest_model = RandomForestRegressor(random_state=42)\n",
    "\n",
    "# Fit the model\n",
    "random_forest_model.fit(df[features], df.price)\n",
    "\n",
    "cols = random_forest_model.feature_names_in_\n",
    "\n",
    "# Derive feature importance from random forest\n",
    "importances = random_forest_model.feature_importances_\n",
    "std         = np.std([tree.feature_importances_ for tree in random_forest_model.estimators_], axis=0)\n",
    "indices     = np.argsort(importances)[::-1]\n",
    "\n",
    "# Barplot with feature importance\n",
    "df_fi = pd.DataFrame({'features':cols,'importances': importances})\n",
    "df_fi.sort_values('importances', inplace=True)\n",
    "df_fi.plot(kind='barh', \n",
    "           y='importances',\n",
    "           x='features', \n",
    "           color='darkred')"
   ]
  },
  {
   "cell_type": "code",
   "execution_count": 107,
   "id": "1e3160d9",
   "metadata": {},
   "outputs": [
    {
     "name": "stdout",
     "output_type": "stream",
     "text": [
      "CV results RMSE: [-575. -669. -591. -768. -654.]\n",
      "Mean RMSE: -651.4\n"
     ]
    }
   ],
   "source": [
    "features = ['rooms', 'area', 'pop', 'pop_dens', 'frg_pct', 'emp', 'tax_income', 'room_per_m2','density_factor', 'luxurious', 'temporary', 'furnished', 'area_cat_ecoded', 'zurich_city']\n",
    "model_performance(features, df)"
   ]
  },
  {
   "cell_type": "code",
   "execution_count": 108,
   "id": "01369b8e",
   "metadata": {},
   "outputs": [
    {
     "data": {
      "text/plain": [
       "<Axes: ylabel='features'>"
      ]
     },
     "execution_count": 108,
     "metadata": {},
     "output_type": "execute_result"
    },
    {
     "data": {
      "image/png": "[encoded data removed]",
      "text/plain": [
       "<Figure size 640x480 with 1 Axes>"
      ]
     },
     "metadata": {},
     "output_type": "display_data"
    }
   ],
   "source": [
    "# train random_forest_model = RandomForestRegressor()\n",
    "random_forest_model = RandomForestRegressor(random_state=42)\n",
    "\n",
    "# Fit the model\n",
    "random_forest_model.fit(df[features], df.price)\n",
    "\n",
    "cols = random_forest_model.feature_names_in_\n",
    "\n",
    "# Derive feature importance from random forest\n",
    "importances = random_forest_model.feature_importances_\n",
    "std         = np.std([tree.feature_importances_ for tree in random_forest_model.estimators_], axis=0)\n",
    "indices     = np.argsort(importances)[::-1]\n",
    "\n",
    "# Barplot with feature importance\n",
    "df_fi = pd.DataFrame({'features':cols,'importances': importances})\n",
    "df_fi.sort_values('importances', inplace=True)\n",
    "df_fi.plot(kind='barh', \n",
    "           y='importances',\n",
    "           x='features', \n",
    "           color='darkred')"
   ]
  },
  {
   "cell_type": "markdown",
   "id": "0ae305ce",
   "metadata": {},
   "source": [
    "### Error analysis"
   ]
  },
  {
   "cell_type": "code",
   "execution_count": 109,
   "id": "2da5c816",
   "metadata": {},
   "outputs": [
    {
     "name": "stdout",
     "output_type": "stream",
     "text": [
      "   rooms  area    pop     pop_dens    frg_pct     emp  tax_income  \\\n",
      "0    3.0    49  12286  1221.272366  24.841283  5053.0       66676   \n",
      "1    3.0   111  12286  1221.272366  24.841283  5053.0       66676   \n",
      "2    3.0    58  12286  1221.272366  24.841283  5053.0       66676   \n",
      "3    4.0   118  12286  1221.272366  24.841283  5053.0       66676   \n",
      "4    3.0    66  12286  1221.272366  24.841283  5053.0       66676   \n",
      "\n",
      "   room_per_m2  density_factor  luxurious  temporary  furnished  \\\n",
      "0        16.33       21.325401          0          0          0   \n",
      "1        37.00       21.325401          0          0          0   \n",
      "2        19.33       21.325401          0          0          0   \n",
      "3        29.50       28.433868          0          0          0   \n",
      "4        22.00       21.325401          0          0          0   \n",
      "\n",
      "   area_cat_ecoded  zurich_city  recidual (error)  price  predicted_price  \n",
      "0              0.0            0         64.140000   1441      1505.140000  \n",
      "1              1.0            0         56.340000   2600      2656.340000  \n",
      "2              2.0            0         12.580000   1490      1502.580000  \n",
      "3              1.0            0        174.160000   3240      3065.840000  \n",
      "4              2.0            0         53.416667   1450      1503.416667  \n"
     ]
    }
   ],
   "source": [
    "# get all predictions for the training set.\n",
    "\n",
    "# train random_forest_model = RandomForestRegressor()\n",
    "random_forest_model = RandomForestRegressor(random_state=42)\n",
    "\n",
    "# Fit the model\n",
    "random_forest_model.fit(df[features], df.price)\n",
    "\n",
    "price_prediction = random_forest_model.predict(df[features])\n",
    "df_with_residual = pd.DataFrame(df[features], columns=df[features].columns, copy=True)\n",
    "df_with_residual['recidual (error)'] = np.abs(price_prediction - df.price)\n",
    "df_with_residual['price'] = df.price\n",
    "df_with_residual['predicted_price'] = price_prediction\n",
    "print(df_with_residual.head())\n",
    "# Add text, postalcode and town name\n",
    "# we use join instead of merge, because we 'join' on the index column and do not perform a merge using a specific column\n",
    "df_with_residual = df_with_residual.join(df[['description_raw', 'bfs_name', 'postalcode', 'town']])"
   ]
  },
  {
   "cell_type": "code",
   "execution_count": 110,
   "id": "6d66105b",
   "metadata": {},
   "outputs": [
    {
     "data": {
      "text/plain": [
       "pop     bfs_name     \n",
       "39647   Zürich           5\n",
       "41411   Zürich           5\n",
       "113173  Winterthur       4\n",
       "50950   Zürich           4\n",
       "37639   Zürich           4\n",
       "29944   Zürich           3\n",
       "16841   Wallisellen      2\n",
       "17860   Zürich           2\n",
       "13067   Zollikon         2\n",
       "78801   Zürich           2\n",
       "59841   Zürich           2\n",
       "4840    Oetwil am See    1\n",
       "15874   Zürich           1\n",
       "33537   Zürich           1\n",
       "18139   Thalwil          1\n",
       "6485    Fehraltorf       1\n",
       "35007   Uster            1\n",
       "dtype: int64"
      ]
     },
     "execution_count": 110,
     "metadata": {},
     "output_type": "execute_result"
    }
   ],
   "source": [
    "# check which location has the largest errors.\n",
    "df_with_residual[(df_with_residual['recidual (error)'] > 500)].groupby(['pop', 'bfs_name']).size().sort_values(ascending=False)"
   ]
  },
  {
   "cell_type": "code",
   "execution_count": 111,
   "id": "17a79772",
   "metadata": {},
   "outputs": [],
   "source": [
    "\n",
    "df_with_residual[(df_with_residual['recidual (error)'] > 800)].to_csv('data_with_large_residuals.csv', \n",
    "          sep=\",\", \n",
    "          encoding='utf-8',\n",
    "          index=False)"
   ]
  },
  {
   "cell_type": "markdown",
   "id": "12e54909",
   "metadata": {},
   "source": [
    "## Find the best parameters\n",
    "- GridSearch\n",
    "- RandomSearchCV"
   ]
  },
  {
   "cell_type": "code",
   "execution_count": 112,
   "id": "0cde625e",
   "metadata": {},
   "outputs": [
    {
     "name": "stdout",
     "output_type": "stream",
     "text": [
      "Fitting 3 folds for each of 3 candidates, totalling 9 fits\n",
      "[CV] END ...................................n_estimators=100; total time=   0.3s\n",
      "[CV] END ...................................n_estimators=100; total time=   0.3s\n",
      "[CV] END ...................................n_estimators=100; total time=   0.2s\n",
      "[CV] END ...................................n_estimators=500; total time=   1.5s\n"
     ]
    },
    {
     "name": "stdout",
     "output_type": "stream",
     "text": [
      "[CV] END ...................................n_estimators=500; total time=   1.4s\n",
      "[CV] END ...................................n_estimators=500; total time=   1.3s\n",
      "[CV] END ..................................n_estimators=1000; total time=   2.9s\n",
      "[CV] END ..................................n_estimators=1000; total time=   2.7s\n",
      "[CV] END ..................................n_estimators=1000; total time=   2.4s\n"
     ]
    },
    {
     "data": {
      "text/html": [
       "<style>#sk-container-id-2 {\n",
       "  /* Definition of color scheme common for light and dark mode */\n",
       "  --sklearn-color-text: #000;\n",
       "  --sklearn-color-text-muted: #666;\n",
       "  --sklearn-color-line: gray;\n",
       "  /* Definition of color scheme for unfitted estimators */\n",
       "  --sklearn-color-unfitted-level-0: #fff5e6;\n",
       "  --sklearn-color-unfitted-level-1: #f6e4d2;\n",
       "  --sklearn-color-unfitted-level-2: #ffe0b3;\n",
       "  --sklearn-color-unfitted-level-3: chocolate;\n",
       "  /* Definition of color scheme for fitted estimators */\n",
       "  --sklearn-color-fitted-level-0: #f0f8ff;\n",
       "  --sklearn-color-fitted-level-1: #d4ebff;\n",
       "  --sklearn-color-fitted-level-2: #b3dbfd;\n",
       "  --sklearn-color-fitted-level-3: cornflowerblue;\n",
       "\n",
       "  /* Specific color for light theme */\n",
       "  --sklearn-color-text-on-default-background: var(--sg-text-color, var(--theme-code-foreground, var(--jp-content-font-color1, black)));\n",
       "  --sklearn-color-background: var(--sg-background-color, var(--theme-background, var(--jp-layout-color0, white)));\n",
       "  --sklearn-color-border-box: var(--sg-text-color, var(--theme-code-foreground, var(--jp-content-font-color1, black)));\n",
       "  --sklearn-color-icon: #696969;\n",
       "\n",
       "  @media (prefers-color-scheme: dark) {\n",
       "    /* Redefinition of color scheme for dark theme */\n",
       "    --sklearn-color-text-on-default-background: var(--sg-text-color, var(--theme-code-foreground, var(--jp-content-font-color1, white)));\n",
       "    --sklearn-color-background: var(--sg-background-color, var(--theme-background, var(--jp-layout-color0, #111)));\n",
       "    --sklearn-color-border-box: var(--sg-text-color, var(--theme-code-foreground, var(--jp-content-font-color1, white)));\n",
       "    --sklearn-color-icon: #878787;\n",
       "  }\n",
       "}\n",
       "\n",
       "#sk-container-id-2 {\n",
       "  color: var(--sklearn-color-text);\n",
       "}\n",
       "\n",
       "#sk-container-id-2 pre {\n",
       "  padding: 0;\n",
       "}\n",
       "\n",
       "#sk-container-id-2 input.sk-hidden--visually {\n",
       "  border: 0;\n",
       "  clip: rect(1px 1px 1px 1px);\n",
       "  clip: rect(1px, 1px, 1px, 1px);\n",
       "  height: 1px;\n",
       "  margin: -1px;\n",
       "  overflow: hidden;\n",
       "  padding: 0;\n",
       "  position: absolute;\n",
       "  width: 1px;\n",
       "}\n",
       "\n",
       "#sk-container-id-2 div.sk-dashed-wrapped {\n",
       "  border: 1px dashed var(--sklearn-color-line);\n",
       "  margin: 0 0.4em 0.5em 0.4em;\n",
       "  box-sizing: border-box;\n",
       "  padding-bottom: 0.4em;\n",
       "  background-color: var(--sklearn-color-background);\n",
       "}\n",
       "\n",
       "#sk-container-id-2 div.sk-container {\n",
       "  /* jupyter's `normalize.less` sets `[hidden] { display: none; }`\n",
       "     but bootstrap.min.css set `[hidden] { display: none !important; }`\n",
       "     so we also need the `!important` here to be able to override the\n",
       "     default hidden behavior on the sphinx rendered scikit-learn.org.\n",
       "     See: https://github.com/scikit-learn/scikit-learn/issues/21755 */\n",
       "  display: inline-block !important;\n",
       "  position: relative;\n",
       "}\n",
       "\n",
       "#sk-container-id-2 div.sk-text-repr-fallback {\n",
       "  display: none;\n",
       "}\n",
       "\n",
       "div.sk-parallel-item,\n",
       "div.sk-serial,\n",
       "div.sk-item {\n",
       "  /* draw centered vertical line to link estimators */\n",
       "  background-image: linear-gradient(var(--sklearn-color-text-on-default-background), var(--sklearn-color-text-on-default-background));\n",
       "  background-size: 2px 100%;\n",
       "  background-repeat: no-repeat;\n",
       "  background-position: center center;\n",
       "}\n",
       "\n",
       "/* Parallel-specific style estimator block */\n",
       "\n",
       "#sk-container-id-2 div.sk-parallel-item::after {\n",
       "  content: \"\";\n",
       "  width: 100%;\n",
       "  border-bottom: 2px solid var(--sklearn-color-text-on-default-background);\n",
       "  flex-grow: 1;\n",
       "}\n",
       "\n",
       "#sk-container-id-2 div.sk-parallel {\n",
       "  display: flex;\n",
       "  align-items: stretch;\n",
       "  justify-content: center;\n",
       "  background-color: var(--sklearn-color-background);\n",
       "  position: relative;\n",
       "}\n",
       "\n",
       "#sk-container-id-2 div.sk-parallel-item {\n",
       "  display: flex;\n",
       "  flex-direction: column;\n",
       "}\n",
       "\n",
       "#sk-container-id-2 div.sk-parallel-item:first-child::after {\n",
       "  align-self: flex-end;\n",
       "  width: 50%;\n",
       "}\n",
       "\n",
       "#sk-container-id-2 div.sk-parallel-item:last-child::after {\n",
       "  align-self: flex-start;\n",
       "  width: 50%;\n",
       "}\n",
       "\n",
       "#sk-container-id-2 div.sk-parallel-item:only-child::after {\n",
       "  width: 0;\n",
       "}\n",
       "\n",
       "/* Serial-specific style estimator block */\n",
       "\n",
       "#sk-container-id-2 div.sk-serial {\n",
       "  display: flex;\n",
       "  flex-direction: column;\n",
       "  align-items: center;\n",
       "  background-color: var(--sklearn-color-background);\n",
       "  padding-right: 1em;\n",
       "  padding-left: 1em;\n",
       "}\n",
       "\n",
       "\n",
       "/* Toggleable style: style used for estimator/Pipeline/ColumnTransformer box that is\n",
       "clickable and can be expanded/collapsed.\n",
       "- Pipeline and ColumnTransformer use this feature and define the default style\n",
       "- Estimators will overwrite some part of the style using the `sk-estimator` class\n",
       "*/\n",
       "\n",
       "/* Pipeline and ColumnTransformer style (default) */\n",
       "\n",
       "#sk-container-id-2 div.sk-toggleable {\n",
       "  /* Default theme specific background. It is overwritten whether we have a\n",
       "  specific estimator or a Pipeline/ColumnTransformer */\n",
       "  background-color: var(--sklearn-color-background);\n",
       "}\n",
       "\n",
       "/* Toggleable label */\n",
       "#sk-container-id-2 label.sk-toggleable__label {\n",
       "  cursor: pointer;\n",
       "  display: flex;\n",
       "  width: 100%;\n",
       "  margin-bottom: 0;\n",
       "  padding: 0.5em;\n",
       "  box-sizing: border-box;\n",
       "  text-align: center;\n",
       "  align-items: start;\n",
       "  justify-content: space-between;\n",
       "  gap: 0.5em;\n",
       "}\n",
       "\n",
       "#sk-container-id-2 label.sk-toggleable__label .caption {\n",
       "  font-size: 0.6rem;\n",
       "  font-weight: lighter;\n",
       "  color: var(--sklearn-color-text-muted);\n",
       "}\n",
       "\n",
       "#sk-container-id-2 label.sk-toggleable__label-arrow:before {\n",
       "  /* Arrow on the left of the label */\n",
       "  content: \"▸\";\n",
       "  float: left;\n",
       "  margin-right: 0.25em;\n",
       "  color: var(--sklearn-color-icon);\n",
       "}\n",
       "\n",
       "#sk-container-id-2 label.sk-toggleable__label-arrow:hover:before {\n",
       "  color: var(--sklearn-color-text);\n",
       "}\n",
       "\n",
       "/* Toggleable content - dropdown */\n",
       "\n",
       "#sk-container-id-2 div.sk-toggleable__content {\n",
       "  max-height: 0;\n",
       "  max-width: 0;\n",
       "  overflow: hidden;\n",
       "  text-align: left;\n",
       "  /* unfitted */\n",
       "  background-color: var(--sklearn-color-unfitted-level-0);\n",
       "}\n",
       "\n",
       "#sk-container-id-2 div.sk-toggleable__content.fitted {\n",
       "  /* fitted */\n",
       "  background-color: var(--sklearn-color-fitted-level-0);\n",
       "}\n",
       "\n",
       "#sk-container-id-2 div.sk-toggleable__content pre {\n",
       "  margin: 0.2em;\n",
       "  border-radius: 0.25em;\n",
       "  color: var(--sklearn-color-text);\n",
       "  /* unfitted */\n",
       "  background-color: var(--sklearn-color-unfitted-level-0);\n",
       "}\n",
       "\n",
       "#sk-container-id-2 div.sk-toggleable__content.fitted pre {\n",
       "  /* unfitted */\n",
       "  background-color: var(--sklearn-color-fitted-level-0);\n",
       "}\n",
       "\n",
       "#sk-container-id-2 input.sk-toggleable__control:checked~div.sk-toggleable__content {\n",
       "  /* Expand drop-down */\n",
       "  max-height: 200px;\n",
       "  max-width: 100%;\n",
       "  overflow: auto;\n",
       "}\n",
       "\n",
       "#sk-container-id-2 input.sk-toggleable__control:checked~label.sk-toggleable__label-arrow:before {\n",
       "  content: \"▾\";\n",
       "}\n",
       "\n",
       "/* Pipeline/ColumnTransformer-specific style */\n",
       "\n",
       "#sk-container-id-2 div.sk-label input.sk-toggleable__control:checked~label.sk-toggleable__label {\n",
       "  color: var(--sklearn-color-text);\n",
       "  background-color: var(--sklearn-color-unfitted-level-2);\n",
       "}\n",
       "\n",
       "#sk-container-id-2 div.sk-label.fitted input.sk-toggleable__control:checked~label.sk-toggleable__label {\n",
       "  background-color: var(--sklearn-color-fitted-level-2);\n",
       "}\n",
       "\n",
       "/* Estimator-specific style */\n",
       "\n",
       "/* Colorize estimator box */\n",
       "#sk-container-id-2 div.sk-estimator input.sk-toggleable__control:checked~label.sk-toggleable__label {\n",
       "  /* unfitted */\n",
       "  background-color: var(--sklearn-color-unfitted-level-2);\n",
       "}\n",
       "\n",
       "#sk-container-id-2 div.sk-estimator.fitted input.sk-toggleable__control:checked~label.sk-toggleable__label {\n",
       "  /* fitted */\n",
       "  background-color: var(--sklearn-color-fitted-level-2);\n",
       "}\n",
       "\n",
       "#sk-container-id-2 div.sk-label label.sk-toggleable__label,\n",
       "#sk-container-id-2 div.sk-label label {\n",
       "  /* The background is the default theme color */\n",
       "  color: var(--sklearn-color-text-on-default-background);\n",
       "}\n",
       "\n",
       "/* On hover, darken the color of the background */\n",
       "#sk-container-id-2 div.sk-label:hover label.sk-toggleable__label {\n",
       "  color: var(--sklearn-color-text);\n",
       "  background-color: var(--sklearn-color-unfitted-level-2);\n",
       "}\n",
       "\n",
       "/* Label box, darken color on hover, fitted */\n",
       "#sk-container-id-2 div.sk-label.fitted:hover label.sk-toggleable__label.fitted {\n",
       "  color: var(--sklearn-color-text);\n",
       "  background-color: var(--sklearn-color-fitted-level-2);\n",
       "}\n",
       "\n",
       "/* Estimator label */\n",
       "\n",
       "#sk-container-id-2 div.sk-label label {\n",
       "  font-family: monospace;\n",
       "  font-weight: bold;\n",
       "  display: inline-block;\n",
       "  line-height: 1.2em;\n",
       "}\n",
       "\n",
       "#sk-container-id-2 div.sk-label-container {\n",
       "  text-align: center;\n",
       "}\n",
       "\n",
       "/* Estimator-specific */\n",
       "#sk-container-id-2 div.sk-estimator {\n",
       "  font-family: monospace;\n",
       "  border: 1px dotted var(--sklearn-color-border-box);\n",
       "  border-radius: 0.25em;\n",
       "  box-sizing: border-box;\n",
       "  margin-bottom: 0.5em;\n",
       "  /* unfitted */\n",
       "  background-color: var(--sklearn-color-unfitted-level-0);\n",
       "}\n",
       "\n",
       "#sk-container-id-2 div.sk-estimator.fitted {\n",
       "  /* fitted */\n",
       "  background-color: var(--sklearn-color-fitted-level-0);\n",
       "}\n",
       "\n",
       "/* on hover */\n",
       "#sk-container-id-2 div.sk-estimator:hover {\n",
       "  /* unfitted */\n",
       "  background-color: var(--sklearn-color-unfitted-level-2);\n",
       "}\n",
       "\n",
       "#sk-container-id-2 div.sk-estimator.fitted:hover {\n",
       "  /* fitted */\n",
       "  background-color: var(--sklearn-color-fitted-level-2);\n",
       "}\n",
       "\n",
       "/* Specification for estimator info (e.g. \"i\" and \"?\") */\n",
       "\n",
       "/* Common style for \"i\" and \"?\" */\n",
       "\n",
       ".sk-estimator-doc-link,\n",
       "a:link.sk-estimator-doc-link,\n",
       "a:visited.sk-estimator-doc-link {\n",
       "  float: right;\n",
       "  font-size: smaller;\n",
       "  line-height: 1em;\n",
       "  font-family: monospace;\n",
       "  background-color: var(--sklearn-color-background);\n",
       "  border-radius: 1em;\n",
       "  height: 1em;\n",
       "  width: 1em;\n",
       "  text-decoration: none !important;\n",
       "  margin-left: 0.5em;\n",
       "  text-align: center;\n",
       "  /* unfitted */\n",
       "  border: var(--sklearn-color-unfitted-level-1) 1pt solid;\n",
       "  color: var(--sklearn-color-unfitted-level-1);\n",
       "}\n",
       "\n",
       ".sk-estimator-doc-link.fitted,\n",
       "a:link.sk-estimator-doc-link.fitted,\n",
       "a:visited.sk-estimator-doc-link.fitted {\n",
       "  /* fitted */\n",
       "  border: var(--sklearn-color-fitted-level-1) 1pt solid;\n",
       "  color: var(--sklearn-color-fitted-level-1);\n",
       "}\n",
       "\n",
       "/* On hover */\n",
       "div.sk-estimator:hover .sk-estimator-doc-link:hover,\n",
       ".sk-estimator-doc-link:hover,\n",
       "div.sk-label-container:hover .sk-estimator-doc-link:hover,\n",
       ".sk-estimator-doc-link:hover {\n",
       "  /* unfitted */\n",
       "  background-color: var(--sklearn-color-unfitted-level-3);\n",
       "  color: var(--sklearn-color-background);\n",
       "  text-decoration: none;\n",
       "}\n",
       "\n",
       "div.sk-estimator.fitted:hover .sk-estimator-doc-link.fitted:hover,\n",
       ".sk-estimator-doc-link.fitted:hover,\n",
       "div.sk-label-container:hover .sk-estimator-doc-link.fitted:hover,\n",
       ".sk-estimator-doc-link.fitted:hover {\n",
       "  /* fitted */\n",
       "  background-color: var(--sklearn-color-fitted-level-3);\n",
       "  color: var(--sklearn-color-background);\n",
       "  text-decoration: none;\n",
       "}\n",
       "\n",
       "/* Span, style for the box shown on hovering the info icon */\n",
       ".sk-estimator-doc-link span {\n",
       "  display: none;\n",
       "  z-index: 9999;\n",
       "  position: relative;\n",
       "  font-weight: normal;\n",
       "  right: .2ex;\n",
       "  padding: .5ex;\n",
       "  margin: .5ex;\n",
       "  width: min-content;\n",
       "  min-width: 20ex;\n",
       "  max-width: 50ex;\n",
       "  color: var(--sklearn-color-text);\n",
       "  box-shadow: 2pt 2pt 4pt #999;\n",
       "  /* unfitted */\n",
       "  background: var(--sklearn-color-unfitted-level-0);\n",
       "  border: .5pt solid var(--sklearn-color-unfitted-level-3);\n",
       "}\n",
       "\n",
       ".sk-estimator-doc-link.fitted span {\n",
       "  /* fitted */\n",
       "  background: var(--sklearn-color-fitted-level-0);\n",
       "  border: var(--sklearn-color-fitted-level-3);\n",
       "}\n",
       "\n",
       ".sk-estimator-doc-link:hover span {\n",
       "  display: block;\n",
       "}\n",
       "\n",
       "/* \"?\"-specific style due to the `<a>` HTML tag */\n",
       "\n",
       "#sk-container-id-2 a.estimator_doc_link {\n",
       "  float: right;\n",
       "  font-size: 1rem;\n",
       "  line-height: 1em;\n",
       "  font-family: monospace;\n",
       "  background-color: var(--sklearn-color-background);\n",
       "  border-radius: 1rem;\n",
       "  height: 1rem;\n",
       "  width: 1rem;\n",
       "  text-decoration: none;\n",
       "  /* unfitted */\n",
       "  color: var(--sklearn-color-unfitted-level-1);\n",
       "  border: var(--sklearn-color-unfitted-level-1) 1pt solid;\n",
       "}\n",
       "\n",
       "#sk-container-id-2 a.estimator_doc_link.fitted {\n",
       "  /* fitted */\n",
       "  border: var(--sklearn-color-fitted-level-1) 1pt solid;\n",
       "  color: var(--sklearn-color-fitted-level-1);\n",
       "}\n",
       "\n",
       "/* On hover */\n",
       "#sk-container-id-2 a.estimator_doc_link:hover {\n",
       "  /* unfitted */\n",
       "  background-color: var(--sklearn-color-unfitted-level-3);\n",
       "  color: var(--sklearn-color-background);\n",
       "  text-decoration: none;\n",
       "}\n",
       "\n",
       "#sk-container-id-2 a.estimator_doc_link.fitted:hover {\n",
       "  /* fitted */\n",
       "  background-color: var(--sklearn-color-fitted-level-3);\n",
       "}\n",
       "</style><div id=\"sk-container-id-2\" class=\"sk-top-container\"><div class=\"sk-text-repr-fallback\"><pre>RandomForestRegressor(n_estimators=1000, random_state=42)</pre><b>In a Jupyter environment, please rerun this cell to show the HTML representation or trust the notebook. <br />On GitHub, the HTML representation is unable to render, please try loading this page with nbviewer.org.</b></div><div class=\"sk-container\" hidden><div class=\"sk-item\"><div class=\"sk-estimator fitted sk-toggleable\"><input class=\"sk-toggleable__control sk-hidden--visually\" id=\"sk-estimator-id-2\" type=\"checkbox\" checked><label for=\"sk-estimator-id-2\" class=\"sk-toggleable__label fitted sk-toggleable__label-arrow\"><div><div>RandomForestRegressor</div></div><div><a class=\"sk-estimator-doc-link fitted\" rel=\"noreferrer\" target=\"_blank\" href=\"https://scikit-learn.org/1.6/modules/generated/sklearn.ensemble.RandomForestRegressor.html\">?<span>Documentation for RandomForestRegressor</span></a><span class=\"sk-estimator-doc-link fitted\">i<span>Fitted</span></span></div></label><div class=\"sk-toggleable__content fitted\"><pre>RandomForestRegressor(n_estimators=1000, random_state=42)</pre></div> </div></div></div></div>"
      ],
      "text/plain": [
       "RandomForestRegressor(n_estimators=1000, random_state=42)"
      ]
     },
     "execution_count": 112,
     "metadata": {},
     "output_type": "execute_result"
    }
   ],
   "source": [
    "from sklearn.model_selection import GridSearchCV\n",
    "\n",
    "param_grid = {'n_estimators': [100, 500, 1000]}\n",
    "grid_search = GridSearchCV(RandomForestRegressor(random_state=42), param_grid, cv=3,\n",
    "scoring='neg_root_mean_squared_error', verbose = 2)\n",
    "grid_search.fit(df[features], df.price)\n",
    "\n",
    "# get best estimator:\n",
    "grid_search.best_estimator_\n"
   ]
  },
  {
   "cell_type": "code",
   "execution_count": 118,
   "id": "5bb9a541",
   "metadata": {},
   "outputs": [
    {
     "name": "stdout",
     "output_type": "stream",
     "text": [
      "CV results RMSE: [-575. -669. -591. -768. -654.]\n",
      "Mean RMSE: -651.4\n",
      "After GridSearch\n",
      "CV results RMSE: [-584. -664. -583. -759. -654.]\n",
      "Mean RMSE: -648.8\n"
     ]
    }
   ],
   "source": [
    "features = ['rooms', 'area', 'pop', 'pop_dens', 'frg_pct', 'emp', 'tax_income', 'room_per_m2', 'density_factor','luxurious', 'temporary', 'furnished', 'area_cat_ecoded', 'zurich_city']\n",
    "model_performance(features, df)\n",
    "\n",
    "print('After GridSearch')\n",
    "model_performance(features, df, RandomForestRegressor(n_estimators=1000, random_state=42))\n",
    "\n"
   ]
  },
  {
   "cell_type": "code",
   "execution_count": 114,
   "id": "efa51a65",
   "metadata": {},
   "outputs": [
    {
     "name": "stdout",
     "output_type": "stream",
     "text": [
      "Fitting 5 folds for each of 10 candidates, totalling 50 fits\n"
     ]
    },
    {
     "name": "stdout",
     "output_type": "stream",
     "text": [
      "[CV] END max_depth=100, max_features=6, min_samples_leaf=4, min_samples_split=10, n_estimators=1000; total time=   1.5s\n",
      "[CV] END max_depth=100, max_features=6, min_samples_leaf=4, min_samples_split=10, n_estimators=1000; total time=   1.6s\n",
      "[CV] END max_depth=100, max_features=6, min_samples_leaf=4, min_samples_split=10, n_estimators=1000; total time=   1.4s\n",
      "[CV] END max_depth=100, max_features=6, min_samples_leaf=4, min_samples_split=10, n_estimators=1000; total time=   1.4s\n",
      "[CV] END max_depth=100, max_features=6, min_samples_leaf=4, min_samples_split=10, n_estimators=1000; total time=   1.3s\n",
      "[CV] END max_depth=100, max_features=6, min_samples_leaf=4, min_samples_split=12, n_estimators=100; total time=   0.1s\n",
      "[CV] END max_depth=100, max_features=6, min_samples_leaf=4, min_samples_split=12, n_estimators=100; total time=   0.2s\n",
      "[CV] END max_depth=100, max_features=6, min_samples_leaf=4, min_samples_split=12, n_estimators=100; total time=   0.2s\n",
      "[CV] END max_depth=100, max_features=6, min_samples_leaf=4, min_samples_split=12, n_estimators=100; total time=   0.1s\n",
      "[CV] END max_depth=100, max_features=6, min_samples_leaf=4, min_samples_split=12, n_estimators=100; total time=   0.1s\n",
      "[CV] END max_depth=110, max_features=6, min_samples_leaf=4, min_samples_split=10, n_estimators=100; total time=   0.2s\n",
      "[CV] END max_depth=110, max_features=6, min_samples_leaf=4, min_samples_split=10, n_estimators=100; total time=   0.1s\n",
      "[CV] END max_depth=110, max_features=6, min_samples_leaf=4, min_samples_split=10, n_estimators=100; total time=   0.1s\n",
      "[CV] END max_depth=110, max_features=6, min_samples_leaf=4, min_samples_split=10, n_estimators=100; total time=   0.1s\n",
      "[CV] END max_depth=110, max_features=6, min_samples_leaf=4, min_samples_split=10, n_estimators=100; total time=   0.1s\n",
      "[CV] END max_depth=90, max_features=9, min_samples_leaf=5, min_samples_split=12, n_estimators=500; total time=   0.9s\n",
      "[CV] END max_depth=90, max_features=9, min_samples_leaf=5, min_samples_split=12, n_estimators=500; total time=   0.8s\n",
      "[CV] END max_depth=90, max_features=9, min_samples_leaf=5, min_samples_split=12, n_estimators=500; total time=   0.9s\n",
      "[CV] END max_depth=90, max_features=9, min_samples_leaf=5, min_samples_split=12, n_estimators=500; total time=   0.9s\n",
      "[CV] END max_depth=90, max_features=9, min_samples_leaf=5, min_samples_split=12, n_estimators=500; total time=   0.8s\n",
      "[CV] END max_depth=100, max_features=6, min_samples_leaf=5, min_samples_split=10, n_estimators=100; total time=   0.1s\n",
      "[CV] END max_depth=100, max_features=6, min_samples_leaf=5, min_samples_split=10, n_estimators=100; total time=   0.2s\n",
      "[CV] END max_depth=100, max_features=6, min_samples_leaf=5, min_samples_split=10, n_estimators=100; total time=   0.2s\n",
      "[CV] END max_depth=100, max_features=6, min_samples_leaf=5, min_samples_split=10, n_estimators=100; total time=   0.2s\n",
      "[CV] END max_depth=100, max_features=6, min_samples_leaf=5, min_samples_split=10, n_estimators=100; total time=   0.2s\n",
      "[CV] END max_depth=110, max_features=6, min_samples_leaf=4, min_samples_split=12, n_estimators=100; total time=   0.1s\n",
      "[CV] END max_depth=110, max_features=6, min_samples_leaf=4, min_samples_split=12, n_estimators=100; total time=   0.1s\n",
      "[CV] END max_depth=110, max_features=6, min_samples_leaf=4, min_samples_split=12, n_estimators=100; total time=   0.1s\n",
      "[CV] END max_depth=110, max_features=6, min_samples_leaf=4, min_samples_split=12, n_estimators=100; total time=   0.1s\n",
      "[CV] END max_depth=110, max_features=6, min_samples_leaf=4, min_samples_split=12, n_estimators=100; total time=   0.1s\n",
      "[CV] END max_depth=90, max_features=6, min_samples_leaf=5, min_samples_split=10, n_estimators=500; total time=   0.7s\n",
      "[CV] END max_depth=90, max_features=6, min_samples_leaf=5, min_samples_split=10, n_estimators=500; total time=   0.8s\n",
      "[CV] END max_depth=90, max_features=6, min_samples_leaf=5, min_samples_split=10, n_estimators=500; total time=   0.7s\n",
      "[CV] END max_depth=90, max_features=6, min_samples_leaf=5, min_samples_split=10, n_estimators=500; total time=   0.7s\n",
      "[CV] END max_depth=90, max_features=6, min_samples_leaf=5, min_samples_split=10, n_estimators=500; total time=   0.7s\n",
      "[CV] END max_depth=110, max_features=6, min_samples_leaf=5, min_samples_split=12, n_estimators=1000; total time=   1.4s\n",
      "[CV] END max_depth=110, max_features=6, min_samples_leaf=5, min_samples_split=12, n_estimators=1000; total time=   1.4s\n",
      "[CV] END max_depth=110, max_features=6, min_samples_leaf=5, min_samples_split=12, n_estimators=1000; total time=   1.5s\n",
      "[CV] END max_depth=110, max_features=6, min_samples_leaf=5, min_samples_split=12, n_estimators=1000; total time=   1.3s\n",
      "[CV] END max_depth=110, max_features=6, min_samples_leaf=5, min_samples_split=12, n_estimators=1000; total time=   1.4s\n",
      "[CV] END max_depth=100, max_features=6, min_samples_leaf=5, min_samples_split=12, n_estimators=500; total time=   0.7s\n",
      "[CV] END max_depth=100, max_features=6, min_samples_leaf=5, min_samples_split=12, n_estimators=500; total time=   0.7s\n",
      "[CV] END max_depth=100, max_features=6, min_samples_leaf=5, min_samples_split=12, n_estimators=500; total time=   0.7s\n",
      "[CV] END max_depth=100, max_features=6, min_samples_leaf=5, min_samples_split=12, n_estimators=500; total time=   0.7s\n",
      "[CV] END max_depth=100, max_features=6, min_samples_leaf=5, min_samples_split=12, n_estimators=500; total time=   0.7s\n",
      "[CV] END max_depth=110, max_features=9, min_samples_leaf=5, min_samples_split=12, n_estimators=1000; total time=   1.7s\n",
      "[CV] END max_depth=110, max_features=9, min_samples_leaf=5, min_samples_split=12, n_estimators=1000; total time=   1.7s\n",
      "[CV] END max_depth=110, max_features=9, min_samples_leaf=5, min_samples_split=12, n_estimators=1000; total time=   1.7s\n",
      "[CV] END max_depth=110, max_features=9, min_samples_leaf=5, min_samples_split=12, n_estimators=1000; total time=   1.6s\n",
      "[CV] END max_depth=110, max_features=9, min_samples_leaf=5, min_samples_split=12, n_estimators=1000; total time=   1.6s\n",
      "RandomForestRegressor(max_depth=100, max_features=6, min_samples_leaf=4,\n",
      "                      min_samples_split=12, random_state=42)\n",
      "CV results RMSE: [-625. -662. -622. -733. -680.]\n",
      "Mean RMSE: -664.4\n"
     ]
    }
   ],
   "source": [
    "from sklearn.model_selection import RandomizedSearchCV\n",
    "\n",
    "param_grid = {'max_depth': [90, 100, 110],\n",
    "'max_features': [6, 9],\n",
    "'min_samples_leaf': [4, 5],\n",
    "'min_samples_split': [10, 12],\n",
    "'n_estimators': [100, 500, 1000]\n",
    "}\n",
    "\n",
    "clf = RandomizedSearchCV(RandomForestRegressor(random_state=42), param_grid, random_state=0, n_iter=10, verbose=2)\n",
    "search = clf.fit(df[features], df.price)\n",
    "\n",
    "print(search.best_estimator_)\n",
    "model_performance(features, df, search.best_estimator_)\n"
   ]
  },
  {
   "cell_type": "code",
   "execution_count": 115,
   "id": "bbf87a48",
   "metadata": {},
   "outputs": [],
   "source": [
    "df.to_csv('apartments_data_enriched_with_new_features.csv')"
   ]
  },
  {
   "cell_type": "markdown",
   "id": "5e2cd7be",
   "metadata": {},
   "source": [
    "### Gradio UI - MUSSI NO AAPAASSE"
   ]
  },
  {
   "cell_type": "code",
   "execution_count": null,
   "id": "e753013d",
   "metadata": {},
   "outputs": [
    {
     "name": "stdout",
     "output_type": "stream",
     "text": [
      "* Running on local URL:  http://127.0.0.1:7861\n",
      "\n",
      "To create a public link, set `share=True` in `launch()`.\n"
     ]
    },
    {
     "data": {
      "text/html": [
       "<div><iframe src=\"http://127.0.0.1:7861/\" width=\"100%\" height=\"500\" allow=\"autoplay; camera; microphone; clipboard-read; clipboard-write;\" frameborder=\"0\" allowfullscreen></iframe></div>"
      ],
      "text/plain": [
       "<IPython.core.display.HTML object>"
      ]
     },
     "metadata": {},
     "output_type": "display_data"
    },
    {
     "data": {
      "text/plain": []
     },
     "execution_count": 119,
     "metadata": {},
     "output_type": "execute_result"
    }
   ],
   "source": [
    "import numpy as np\n",
    "import gradio as gr\n",
    "\n",
    "# 1. Define your prediction function\n",
    "#    (Replace \"model\" with the variable name of your trained regressor)\n",
    "def predict_apartment_price(rooms, area, pop, pop_dens, frg_pct, emp, tax_income, room_per_m2):\n",
    "    # Convert inputs into a 2D array for the model\n",
    "    X = np.array([[rooms, area, pop, pop_dens, frg_pct, emp, tax_income, room_per_m2]])\n",
    "    \n",
    "    # Predict using your trained model\n",
    "    prediction = model.predict(X)\n",
    "    \n",
    "    # Return the prediction as a single float\n",
    "    return float(prediction[0])\n",
    "\n",
    "# 2. Create a Gradio Interface\n",
    "demo = gr.Interface(\n",
    "    fn=predict_apartment_price,\n",
    "    inputs=[\n",
    "        gr.Number(label=\"Rooms\"),\n",
    "        gr.Number(label=\"Area (m²)\"),\n",
    "        gr.Number(label=\"Population\"),\n",
    "        gr.Number(label=\"Population Density\"),\n",
    "        gr.Number(label=\"Foreign Population %\"),\n",
    "        gr.Number(label=\"Employment\"),\n",
    "        gr.Number(label=\"Taxable Income\"),\n",
    "        gr.Number(label=\"Rooms per m²\"),\n",
    "    ],\n",
    "    outputs=gr.Textbox(label=\"Predicted Price\"),\n",
    "    title=\"Apartment Price Prediction\",\n",
    "    description=\"Enter the apartment's features to predict the price.\",\n",
    "    examples=[\n",
    "        # You can add real or hypothetical examples here\n",
    "        [3, 80, 10000, 2000, 0.15, 3000, 50000, 0.0375],\n",
    "        [4, 120, 15000, 2500, 0.20, 4000, 75000, 0.0333]\n",
    "    ]\n",
    ")\n",
    "\n",
    "# 3. Launch the Gradio app\n",
    "demo.launch()\n"
   ]
  }
 ],
 "metadata": {
  "kernelspec": {
   "display_name": "Python 3",
   "language": "python",
   "name": "python3"
  },
  "language_info": {
   "codemirror_mode": {
    "name": "ipython",
    "version": 3
   },
   "file_extension": ".py",
   "mimetype": "text/x-python",
   "name": "python",
   "nbconvert_exporter": "python",
   "pygments_lexer": "ipython3",
   "version": "3.12.1"
  }
 },
 "nbformat": 4,
 "nbformat_minor": 5
}
