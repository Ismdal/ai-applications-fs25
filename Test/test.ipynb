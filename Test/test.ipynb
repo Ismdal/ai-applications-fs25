{
 "cells": [
  {
   "cell_type": "code",
   "execution_count": 1,
   "metadata": {},
   "outputs": [
    {
     "name": "stderr",
     "output_type": "stream",
     "text": [
      "/home/codespace/.python/current/lib/python3.12/site-packages/tqdm/auto.py:21: TqdmWarning: IProgress not found. Please update jupyter and ipywidgets. See https://ipywidgets.readthedocs.io/en/stable/user_install.html\n",
      "  from .autonotebook import tqdm as notebook_tqdm\n"
     ]
    },
    {
     "name": "stdout",
     "output_type": "stream",
     "text": [
      "* Running on local URL:  http://127.0.0.1:7866\n",
      "\n",
      "To create a public link, set `share=True` in `launch()`.\n"
     ]
    },
    {
     "data": {
      "text/html": [
       "<div><iframe src=\"http://127.0.0.1:7866/\" width=\"100%\" height=\"500\" allow=\"autoplay; camera; microphone; clipboard-read; clipboard-write;\" frameborder=\"0\" allowfullscreen></iframe></div>"
      ],
      "text/plain": [
       "<IPython.core.display.HTML object>"
      ]
     },
     "metadata": {},
     "output_type": "display_data"
    }
   ],
   "source": [
    "import joblib\n",
    "import pandas as pd\n",
    "import numpy as np\n",
    "import gradio as gr\n",
    "import geopy.distance\n",
    "from sklearn.ensemble import RandomForestRegressor\n",
    "from sklearn.model_selection import train_test_split\n",
    "\n",
    "# ------------------------------\n",
    "# Load Data\n",
    "# ------------------------------\n",
    "DATA_PATH = \"apartments_data_enriched_lat_lon_combined.csv\"\n",
    "df = pd.read_csv(DATA_PATH)\n",
    "\n",
    "# Handle missing coordinate columns\n",
    "lat_col = \"latitude\" if \"latitude\" in df.columns else \"lat\"\n",
    "lon_col = \"longitude\" if \"longitude\" in df.columns else \"lon\"\n",
    "if lat_col not in df.columns or lon_col not in df.columns:\n",
    "    raise KeyError(\"Latitude and Longitude columns are missing!\")\n",
    "\n",
    "# Define public transport stations\n",
    "public_transit_stations = [\n",
    "    {\"name\": \"Hauptbahnhof\", \"lat\": 47.378177, \"lon\": 8.540192},\n",
    "    {\"name\": \"Bahnhof Stadelhofen\", \"lat\": 47.366321, \"lon\": 8.548008},\n",
    "    {\"name\": \"Hardbrücke\", \"lat\": 47.385118, \"lon\": 8.517220},\n",
    "    {\"name\": \"Enge\", \"lat\": 47.364751, \"lon\": 8.531601}\n",
    "]\n",
    "\n",
    "# Function to compute distance to nearest station\n",
    "def distance_to_nearest_station(lat, lon):\n",
    "    min_distance = np.inf\n",
    "    for station in public_transit_stations:\n",
    "        dist = geopy.distance.geodesic((lat, lon), (station[\"lat\"], station[\"lon\"]))\n",
    "        min_distance = min(min_distance, dist.km)\n",
    "    return min_distance\n",
    "\n",
    "# Compute new feature\n",
    "df[\"distance_to_transit\"] = df.apply(lambda row: distance_to_nearest_station(row[lat_col], row[lon_col]), axis=1)\n",
    "\n",
    "# ------------------------------\n",
    "# Train Model\n",
    "# ------------------------------\n",
    "features = [\"rooms\", \"area\", \"pop_dens\", \"tax_income\", \"distance_to_transit\"]\n",
    "X = df[features]\n",
    "y = df[\"price\"]\n",
    "X_train, X_test, y_train, y_test = train_test_split(X, y, test_size=0.2, random_state=42)\n",
    "\n",
    "model = RandomForestRegressor(n_estimators=100, random_state=42)\n",
    "model.fit(X_train, y_train)\n",
    "\n",
    "# Save model\n",
    "joblib.dump(model, \"apartment_price_model.pkl\")\n",
    "\n",
    "# ------------------------------\n",
    "# Gradio Web Interface\n",
    "# ------------------------------\n",
    "def predict_price(rooms, area, pop_dens, tax_income, distance_to_transit):\n",
    "    model = joblib.load(\"apartment_price_model.pkl\")\n",
    "    input_data = pd.DataFrame([[rooms, area, pop_dens, tax_income, distance_to_transit]], columns=features)\n",
    "    prediction = model.predict(input_data)[0]\n",
    "    return f\"Geschätzter Preis: {prediction:.2f} CHF\"\n",
    "\n",
    "app = gr.Interface(\n",
    "    fn=predict_price,\n",
    "    inputs=[\n",
    "        gr.Number(label=\"Anzahl Zimmer\"),\n",
    "        gr.Number(label=\"Fläche (m²)\"),\n",
    "        gr.Number(label=\"Bevölkerungsdichte\"),\n",
    "        gr.Number(label=\"Steuerbares Einkommen\"),\n",
    "        gr.Number(label=\"Distanz zur nächsten ÖV-Station (km)\")\n",
    "    ],\n",
    "    outputs=\"text\"\n",
    ")\n",
    "\n",
    "if __name__ == \"__main__\":\n",
    "    app.launch()"
   ]
  }
 ],
 "metadata": {
  "kernelspec": {
   "display_name": "Python 3",
   "language": "python",
   "name": "python3"
  },
  "language_info": {
   "codemirror_mode": {
    "name": "ipython",
    "version": 3
   },
   "file_extension": ".py",
   "mimetype": "text/x-python",
   "name": "python",
   "nbconvert_exporter": "python",
   "pygments_lexer": "ipython3",
   "version": "3.12.1"
  }
 },
 "nbformat": 4,
 "nbformat_minor": 2
}
